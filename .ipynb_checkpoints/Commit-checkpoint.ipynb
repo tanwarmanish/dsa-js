{
 "cells": [
  {
   "cell_type": "code",
   "execution_count": null,
   "id": "3c647ec3-b0b0-4c15-b42d-d37059e136ac",
   "metadata": {},
   "outputs": [],
   "source": [
    "!git add .\n",
    "!git commit -m \"Arrays Easy Problem Completed\"\n",
    "!git push"
   ]
  },
  {
   "cell_type": "code",
   "execution_count": null,
   "id": "42adafe4-5dcd-4ec6-8a73-6a1c88ba565a",
   "metadata": {},
   "outputs": [],
   "source": [
    "!git branch --unset-upstream"
   ]
  },
  {
   "cell_type": "code",
   "execution_count": null,
   "id": "712b487d-0ee5-4350-9122-37827c480506",
   "metadata": {},
   "outputs": [],
   "source": []
  }
 ],
 "metadata": {
  "kernelspec": {
   "display_name": "Python 3 (ipykernel)",
   "language": "python",
   "name": "python3"
  },
  "language_info": {
   "codemirror_mode": {
    "name": "ipython",
    "version": 3
   },
   "file_extension": ".py",
   "mimetype": "text/x-python",
   "name": "python",
   "nbconvert_exporter": "python",
   "pygments_lexer": "ipython3",
   "version": "3.13.5"
  }
 },
 "nbformat": 4,
 "nbformat_minor": 5
}
