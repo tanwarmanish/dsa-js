{
 "cells": [
  {
   "cell_type": "markdown",
   "id": "fb240dff",
   "metadata": {},
   "source": [
    "# Sorted subsequence of size 3"
   ]
  },
  {
   "cell_type": "markdown",
   "id": "bc54563f",
   "metadata": {},
   "source": [
    "## Description\n",
    "- [Problem](https://www.geeksforgeeks.org/dsa/find-a-sorted-subsequence-of-size-3-in-linear-time/)\n",
    "- Given an array of n integers, find the 3 elements such that a[i] < a[j] < a[k] and i < j < k in 0(n) time. If there are multiple such triplets, then print any one of them.\n",
    "<p dir=\"ltr\"><b><strong>Input:</strong></b><span> arr[] = {12, 11, 10, 5, 6, 2, 30}</span><br/><b><strong>Output:</strong></b><span> 5, 6, 30</span><br/><b><strong>Explanation:</strong></b><span> As 5 &lt; 6 &lt; 30, and they </span><br/><span>appear in the same sequence in the array </span><br/><br/><b><strong>Input:</strong></b><span> arr[] = {1, 2, 3, 4}</span><br/><b><strong>Output:</strong></b><span> 1, 2, 3 OR 1, 2, 4 OR 2, 3, 4</span><br/><b><strong>Explanation:</strong></b><span> As the array is sorted, for every i, j, k,</span><br/><span>where i &lt; j &lt; k, arr[i] &lt; arr[j] &lt; arr[k] </span><br/><br/><b><strong>Input: </strong></b><span>arr[] = {4, 3, 2, 1}</span><br/><b><strong>Output:</strong></b><span> No such triplet exists.</span></p>"
   ]
  },
  {
   "cell_type": "code",
   "execution_count": null,
   "id": "21d0933d",
   "metadata": {},
   "outputs": [],
   "source": []
  }
 ],
 "metadata": {},
 "nbformat": 4,
 "nbformat_minor": 5
}
