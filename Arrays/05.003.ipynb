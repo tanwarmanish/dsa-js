{
 "cells": [
  {
   "cell_type": "markdown",
   "id": "32e5ca71",
   "metadata": {},
   "source": [
    "# Top  K Frequent Elements in an Array"
   ]
  },
  {
   "cell_type": "markdown",
   "id": "e2b15714",
   "metadata": {},
   "source": [
    "## Description\n",
    "- [Problem](https://www.geeksforgeeks.org/dsa/find-k-numbers-occurrences-given-array/)\n",
    "- Given an array\n",
    "<p dir=\"ltr\"><b><strong>Input: </strong></b><span>arr= [3, 1, 4, 4, 5, 2, 6, 1], k = 2</span><br/><b><strong>Output: </strong></b><span>[4, 1]</span><br/><b><strong>Explanation:</strong></b><span> Frequency of 4 is 2 and frequency of 1 is 2, these two have the maximum frequency and 4 is larger than 1.</span></p>"
   ]
  },
  {
   "cell_type": "code",
   "execution_count": null,
   "id": "b314c6fe",
   "metadata": {},
   "outputs": [],
   "source": []
  }
 ],
 "metadata": {},
 "nbformat": 4,
 "nbformat_minor": 5
}
