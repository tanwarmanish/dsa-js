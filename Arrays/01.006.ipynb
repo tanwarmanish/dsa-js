{
 "cells": [
  {
   "cell_type": "markdown",
   "id": "218009e9",
   "metadata": {},
   "source": [
    "# Array Reverse"
   ]
  },
  {
   "cell_type": "markdown",
   "id": "0969e517",
   "metadata": {},
   "source": [
    "## Description\n",
    "- [Problem](https://www.geeksforgeeks.org/dsa/program-to-reverse-an-array/)\n",
    "- Reverse an array\n",
    "<p dir=\"ltr\"><b><strong>Input: </strong></b><span>arr[] = [1, 4, 3, 2, 6, 5] </span><b><strong> </strong></b><br/><b><strong>Output:  </strong></b><span>[5, 6, 2, 3, 4, 1]</span><br/><b><strong>Explanation: </strong></b><span>The first element </span><b><strong>1</strong></b><span> moves to last position, the second element </span><b><strong>4</strong></b><span> moves to second-last and so on.</span></p>"
   ]
  },
  {
   "cell_type": "code",
   "execution_count": 3,
   "id": "158ea64c",
   "metadata": {},
   "outputs": [
    {
     "name": "stdout",
     "output_type": "stream",
     "text": [
      "Reverse  1,2,3,4,5,6,7\n"
     ]
    }
   ],
   "source": [
    "const list = [7,6,5,4,3,2,1];\n",
    "\n",
    "function reverse(list){\n",
    "    let i = 0;\n",
    "    let j = list.length - 1;\n",
    "    while(i<j){\n",
    "        [list[i],list[j]] = [list[j],list[i]];\n",
    "        i++;\n",
    "        j--;\n",
    "    }\n",
    "}\n",
    "\n",
    "reverse(list);\n",
    "console.log(\"Reverse \",list.toString());"
   ]
  },
  {
   "cell_type": "code",
   "execution_count": null,
   "id": "5171de3f-9859-486e-a6c2-429430cd8cad",
   "metadata": {},
   "outputs": [],
   "source": []
  }
 ],
 "metadata": {
  "kernelspec": {
   "display_name": "Deno",
   "language": "typescript",
   "name": "deno"
  },
  "language_info": {
   "codemirror_mode": "typescript",
   "file_extension": ".ts",
   "mimetype": "text/x.typescript",
   "name": "typescript",
   "nbconvert_exporter": "script",
   "pygments_lexer": "typescript",
   "version": "5.8.3"
  }
 },
 "nbformat": 4,
 "nbformat_minor": 5
}
