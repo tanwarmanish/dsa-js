{
 "cells": [
  {
   "cell_type": "markdown",
   "id": "2e82d4d4",
   "metadata": {},
   "source": [
    "# Maximum Consecutive Ones After Flipping Zeroes"
   ]
  },
  {
   "cell_type": "markdown",
   "id": "a6c8b0be",
   "metadata": {},
   "source": [
    "## Description\n",
    "- [Problem](https://www.geeksforgeeks.org/dsa/find-zeroes-to-be-flipped-so-that-number-of-consecutive-1s-is-maximized/)\n",
    "- Given a\n",
    "<p dir=\"ltr\"><b><strong>Input</strong></b><span>: arr[] = [1, 0, 0, 1, 1, 0, 1, 0, 1, 1, 1], k = 2</span><br/><b><strong>Output</strong></b><span>: 8</span><br/><b><strong>Explanation</strong></b><span>: By flipping the zero at index 1, all the array elements become one.</span></p>"
   ]
  },
  {
   "cell_type": "code",
   "execution_count": null,
   "id": "45d3d58e",
   "metadata": {},
   "outputs": [],
   "source": []
  }
 ],
 "metadata": {},
 "nbformat": 4,
 "nbformat_minor": 5
}
