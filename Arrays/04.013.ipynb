{
 "cells": [
  {
   "cell_type": "markdown",
   "id": "a96f142d",
   "metadata": {},
   "source": [
    "# Longest Subarray With Equal Number of 0s and 1s"
   ]
  },
  {
   "cell_type": "markdown",
   "id": "0cb4e986",
   "metadata": {},
   "source": [
    "## Description\n",
    "- [Problem](https://www.geeksforgeeks.org/dsa/largest-subarray-with-equal-number-of-0s-and-1s/)\n",
    "- Given an array\n",
    "<p dir=\"ltr\"><b><strong>Input:</strong></b><span> arr[] = [1, 0, 1, 1, 1, 0, 0]</span><br/><b><strong>Output:</strong></b><span> 6</span><br/><b><strong>Explanation</strong></b><span>: arr[1 ... 6] is the longest subarray with three 0s and three 1s.</span></p>"
   ]
  },
  {
   "cell_type": "code",
   "execution_count": null,
   "id": "ba3a30f2",
   "metadata": {},
   "outputs": [],
   "source": []
  }
 ],
 "metadata": {},
 "nbformat": 4,
 "nbformat_minor": 5
}
