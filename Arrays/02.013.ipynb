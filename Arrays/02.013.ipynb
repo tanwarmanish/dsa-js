{
 "cells": [
  {
   "cell_type": "markdown",
   "id": "3dfde56f",
   "metadata": {},
   "source": [
    "# Two Sum -  Pair Closest to 0"
   ]
  },
  {
   "cell_type": "markdown",
   "id": "240350ad",
   "metadata": {},
   "source": [
    "## Description\n",
    "- [Problem](https://www.geeksforgeeks.org/dsa/two-elements-whose-sum-is-closest-to-zero/)\n",
    "- Given an integer array\n",
    "<p dir=\"ltr\"><b><strong>Input: </strong></b><span>arr[] = [-8, 5, 2, -6]</span><br/><b><strong>Output: </strong></b><span>-1</span><br/><b><strong>Explanation:</strong></b><span> The min absolute sum pair is (5, -6)</span></p>"
   ]
  },
  {
   "cell_type": "code",
   "execution_count": null,
   "id": "0348732b",
   "metadata": {},
   "outputs": [],
   "source": []
  }
 ],
 "metadata": {},
 "nbformat": 4,
 "nbformat_minor": 5
}
