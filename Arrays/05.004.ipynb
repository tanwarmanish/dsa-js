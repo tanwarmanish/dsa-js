{
 "cells": [
  {
   "cell_type": "markdown",
   "id": "c31d6e80",
   "metadata": {},
   "source": [
    "# Kth Missing Positive Number in a Sorted Array"
   ]
  },
  {
   "cell_type": "markdown",
   "id": "6f11c1d3",
   "metadata": {},
   "source": [
    "## Description\n",
    "- [Problem](https://www.geeksforgeeks.org/dsa/k-th-missing-element-in-sorted-array/)\n",
    "- Given a sorted array of distinct positive integers\n",
    "<p dir=\"ltr\"><b><strong>Input</strong></b><span>: arr[] = [2, 3, 4, 7, 11], k = 5</span><br/><b><strong>Output</strong></b><span>: 9</span><br/><b><strong>Explanation</strong></b><span>: Missing are 1, 5, 6, 8, 9, 10, ... and 5th missing number is 9.</span></p>"
   ]
  },
  {
   "cell_type": "code",
   "execution_count": null,
   "id": "571cf72c",
   "metadata": {},
   "outputs": [],
   "source": []
  }
 ],
 "metadata": {},
 "nbformat": 4,
 "nbformat_minor": 5
}
