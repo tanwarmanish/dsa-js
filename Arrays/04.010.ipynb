{
 "cells": [
  {
   "cell_type": "markdown",
   "id": "1d3e8149",
   "metadata": {},
   "source": [
    "# Trapping Rain Water Problem"
   ]
  },
  {
   "cell_type": "markdown",
   "id": "f649186b",
   "metadata": {},
   "source": [
    "## Description\n",
    "- [Problem](https://www.geeksforgeeks.org/dsa/trapping-rain-water/)\n",
    "- Given an array arr[] of size n consisting of non-negative integers, where each element represents the height of a bar in an elevation map and the width of each bar is 1, determine the total amount of water that can be trapped between the bars after it rains.\n",
    "<p dir=\"ltr\"><b><strong>Input:</strong></b><span> arr[] = [3, 0, 1, 0, 4, 0, 2]</span><br/><b><strong>Output:</strong></b><span> 10</span><br/><b><strong>Explanation:</strong></b><span> The expected rainwater to be trapped is shown in the above image.</span></p>"
   ]
  },
  {
   "cell_type": "code",
   "execution_count": null,
   "id": "6e8b6e1e",
   "metadata": {},
   "outputs": [],
   "source": []
  }
 ],
 "metadata": {},
 "nbformat": 4,
 "nbformat_minor": 5
}
