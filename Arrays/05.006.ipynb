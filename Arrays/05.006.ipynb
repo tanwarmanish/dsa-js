{
 "cells": [
  {
   "cell_type": "markdown",
   "id": "8aaa6623",
   "metadata": {},
   "source": [
    "# Stock Buy and Sell – Max 2 Transactions Allowed"
   ]
  },
  {
   "cell_type": "markdown",
   "id": "6c6a2148",
   "metadata": {},
   "source": [
    "## Description\n",
    "- [Problem](https://www.geeksforgeeks.org/dsa/maximum-profit-by-buying-and-selling-a-share-at-most-twice/)\n",
    "- In the stock market, a person buys a stock and sells it on some future date. Given the stock prices of\n",
    "<p dir=\"ltr\"><b><strong>Input:</strong></b><span>   prices[] = [10, 22, 5, 75, 65, 80]</span><br/><b><strong>Output: </strong></b><span> 87</span><br/><b><strong>Explanation: </strong></b><span>Buy at 10, sell at 22, profit = 22 - 10 = 12</span><br/><span>                       Buy at 5 and sell at 80, total profit = 12 + (80 - 5) = 87</span></p>"
   ]
  },
  {
   "cell_type": "code",
   "execution_count": null,
   "id": "3c7324e4",
   "metadata": {},
   "outputs": [],
   "source": []
  }
 ],
 "metadata": {},
 "nbformat": 4,
 "nbformat_minor": 5
}
