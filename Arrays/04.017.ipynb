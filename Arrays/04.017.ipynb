{
 "cells": [
  {
   "cell_type": "markdown",
   "id": "e2128387",
   "metadata": {},
   "source": [
    "# 2 Sum – All distinct pairs with given sum"
   ]
  },
  {
   "cell_type": "markdown",
   "id": "8e442601",
   "metadata": {},
   "source": [
    "## Description\n",
    "- [Problem](https://www.geeksforgeeks.org/dsa/print-all-pairs-with-given-sum/)\n",
    "- Given an array\n",
    "<p dir=\"ltr\"><b><strong>Input</strong></b><span>: arr[] = {1, 5, 7, -1, 5}, target= 6 </span><br/><b><strong>Output</strong></b><span>: {{1, 5}, {-1, 7}} </span><br/><b><strong>Explanation</strong></b><span>: There are only two pairs that add up to 6: {1, 5} and {-1, 7}.</span></p>"
   ]
  },
  {
   "cell_type": "code",
   "execution_count": null,
   "id": "f800be64",
   "metadata": {},
   "outputs": [],
   "source": []
  }
 ],
 "metadata": {
  "kernelspec": {
   "display_name": "Python 3 (ipykernel)",
   "language": "python",
   "name": "python3"
  },
  "language_info": {
   "codemirror_mode": {
    "name": "ipython",
    "version": 3
   },
   "file_extension": ".py",
   "mimetype": "text/x-python",
   "name": "python",
   "nbconvert_exporter": "python",
   "pygments_lexer": "ipython3",
   "version": "3.13.5"
  }
 },
 "nbformat": 4,
 "nbformat_minor": 5
}
