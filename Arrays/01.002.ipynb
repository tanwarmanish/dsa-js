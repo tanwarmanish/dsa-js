{
 "cells": [
  {
   "cell_type": "markdown",
   "id": "d0040727-5259-4348-b297-ad54db0cfa05",
   "metadata": {},
   "source": [
    "# Leaders in an Array"
   ]
  },
  {
   "cell_type": "markdown",
   "id": "107c018b-7f57-4631-8dd6-6ecef53bee7f",
   "metadata": {},
   "source": [
    "## Description\n",
    "- [Problem](https://www.geeksforgeeks.org/dsa/leaders-in-an-array/)\n",
    "- Given an array arr[] of size n, the task is to find all the Leaders in the array. An element is a Leader if it is greater than or equal to all the elements to its right side.\n",
    "```\n",
    "Input: arr[] = [16, 17, 4, 3, 5, 2]\n",
    "Output: [17 5 2]\n",
    "Explanation: 17 is greater than all the elements to its right i.e., [4, 3, 5, 2], therefore 17 is a leader. 5 is greater than all the elements to its right i.e., [2], therefore 5 is a leader. 2 has no element to its right, therefore 2 is a leader.\n",
    "\n",
    "Input: arr[] = [1, 2, 3, 4, 5, 2]\n",
    "Output: [5 2]\n",
    "Explanation: 5 is greater than all the elements to its right i.e., [2], therefore 5 is a leader. 2 has no element to its right, therefore 2 is a leader.\n",
    "```"
   ]
  },
  {
   "cell_type": "code",
   "execution_count": 54,
   "id": "2409b3c0-8818-4dc3-a15f-b7a810c7c80f",
   "metadata": {},
   "outputs": [
    {
     "name": "stdout",
     "output_type": "stream",
     "text": [
      "[ \u001b[33m17\u001b[39m, \u001b[33m5\u001b[39m, \u001b[33m2\u001b[39m ]\n"
     ]
    }
   ],
   "source": [
    "function getLeaders(array){\n",
    "    const leaders = [];\n",
    "    let currentLeader = Number.NEGATIVE_INFINITY;\n",
    "    for(let i=array.length-1;i>=0;i--){\n",
    "        const value = array[i];\n",
    "        if(value>currentLeader){\n",
    "            leaders.push(value);\n",
    "            currentLeader = value;\n",
    "        }\n",
    "    }\n",
    "    return leaders.reverse();\n",
    "}\n",
    "\n",
    "const input = [16, 17, 4, 3, 5, 2];\n",
    "const output = getLeaders(input)\n",
    "console.log(output)"
   ]
  },
  {
   "cell_type": "code",
   "execution_count": null,
   "id": "f8c68bb9-9c33-44c0-9dd8-df2ed01c1c12",
   "metadata": {},
   "outputs": [],
   "source": []
  }
 ],
 "metadata": {
  "kernelspec": {
   "display_name": "Deno",
   "language": "typescript",
   "name": "deno"
  },
  "language_info": {
   "codemirror_mode": "typescript",
   "file_extension": ".ts",
   "mimetype": "text/x.typescript",
   "name": "typescript",
   "nbconvert_exporter": "script",
   "pygments_lexer": "typescript",
   "version": "5.8.3"
  }
 },
 "nbformat": 4,
 "nbformat_minor": 5
}
