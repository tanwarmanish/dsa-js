{
 "cells": [
  {
   "cell_type": "markdown",
   "id": "3f73d3b8",
   "metadata": {},
   "source": [
    "# Binary Search"
   ]
  },
  {
   "cell_type": "markdown",
   "id": "ccc07696",
   "metadata": {},
   "source": [
    "## Description\n",
    "- [Problem](https://www.geeksforgeeks.org/dsa/binary-search/)"
   ]
  },
  {
   "cell_type": "code",
   "execution_count": 67,
   "id": "eaa10b7f",
   "metadata": {},
   "outputs": [
    {
     "name": "stdout",
     "output_type": "stream",
     "text": [
      "\u001b[33m-1\u001b[39m\n"
     ]
    }
   ],
   "source": [
    "function binarySearch(arr,x){\n",
    "    let low = 0;\n",
    "    let high = arr.length - 1;\n",
    "    let mid = -1;\n",
    "\n",
    "    while(low<=high){\n",
    "        mid = low + Math.floor((high-low)/2);\n",
    "\n",
    "        // x is at mid \n",
    "        if(arr[mid] == x)\n",
    "            return mid;\n",
    "\n",
    "        // x is on left \n",
    "        if(arr[mid]>x)\n",
    "            high = mid - 1;\n",
    "\n",
    "        // x is on right \n",
    "        if(arr[mid]<x)\n",
    "            low = mid + 1;\n",
    "        \n",
    "    }\n",
    "    \n",
    "    return -1;\n",
    "}\n"
   ]
  },
  {
   "cell_type": "code",
   "execution_count": 84,
   "id": "604b97d9-2b99-4ac1-817c-088175e2204a",
   "metadata": {},
   "outputs": [],
   "source": [
    "function binarySearchRecursive(arr,x,low=0,high=arr.length-1){\n",
    "\n",
    "    if(low>high) return -1;\n",
    "    \n",
    "    let mid = low + Math.floor((high-low)/2);\n",
    "    \n",
    "    // x is at mid\n",
    "    if(arr[mid]==x) return mid;\n",
    "\n",
    "    // x is on right\n",
    "    if(arr[mid]<x) return binarySearchRecursive(arr,x,mid+1,high);\n",
    "\n",
    "    // x is on left\n",
    "    return binarySearchRecursive(arr,x,low,mid-1);\n",
    "}"
   ]
  },
  {
   "cell_type": "code",
   "execution_count": 86,
   "id": "65f2a19f-62bc-4878-9e0b-ac7b7a5691c3",
   "metadata": {},
   "outputs": [],
   "source": [
    "const dataList = [2, 5, 8, 12, 16, 23, 38, 56, 72, 91];\n",
    "const value = 23;"
   ]
  },
  {
   "cell_type": "code",
   "execution_count": 87,
   "id": "5519e77d-d3ea-4ca7-857f-39b1318a42f1",
   "metadata": {},
   "outputs": [
    {
     "name": "stdout",
     "output_type": "stream",
     "text": [
      "Iterative  \u001b[33m5\u001b[39m\n"
     ]
    }
   ],
   "source": [
    "// iterative\n",
    "let output = binarySearch(dataList,value);\n",
    "console.log(\"Iterative \", output);"
   ]
  },
  {
   "cell_type": "code",
   "execution_count": 88,
   "id": "371c8d18-248c-492f-8b71-ede5787735c4",
   "metadata": {},
   "outputs": [
    {
     "name": "stdout",
     "output_type": "stream",
     "text": [
      "Recursive  \u001b[33m5\u001b[39m\n"
     ]
    }
   ],
   "source": [
    "// recursive\n",
    "let output = binarySearchRecursive(dataList,value);\n",
    "console.log(\"Recursive \", output);"
   ]
  },
  {
   "cell_type": "code",
   "execution_count": null,
   "id": "950315cb-656f-4bfc-a617-779b705be6ce",
   "metadata": {},
   "outputs": [],
   "source": []
  }
 ],
 "metadata": {
  "kernelspec": {
   "display_name": "Deno",
   "language": "typescript",
   "name": "deno"
  },
  "language_info": {
   "codemirror_mode": "typescript",
   "file_extension": ".ts",
   "mimetype": "text/x.typescript",
   "name": "typescript",
   "nbconvert_exporter": "script",
   "pygments_lexer": "typescript",
   "version": "5.8.3"
  }
 },
 "nbformat": 4,
 "nbformat_minor": 5
}
