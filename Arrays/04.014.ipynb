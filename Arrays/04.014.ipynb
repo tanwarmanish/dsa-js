{
 "cells": [
  {
   "cell_type": "markdown",
   "id": "7e138731",
   "metadata": {},
   "source": [
    "# Longest Span with same Sum in two Binary arrays"
   ]
  },
  {
   "cell_type": "markdown",
   "id": "54e97891",
   "metadata": {},
   "source": [
    "## Description\n",
    "- [Problem](https://www.geeksforgeeks.org/dsa/longest-span-sum-two-binary-arrays/)\n",
    "- Given two binary arrays\n",
    "<p dir=\"ltr\"><b><strong>Input</strong></b><span>: a1[] = [0, 1, 0, 0, 0, 0], a2[] = [1, 0, 1, 0, 0, 1] </span><br/><b><strong>Output</strong></b><span>: 4 </span><br/><b><strong>Explanation: </strong></b><span>The longest span with same sum is from index 1 to 4.  </span></p>"
   ]
  },
  {
   "cell_type": "code",
   "execution_count": null,
   "id": "fa388178",
   "metadata": {},
   "outputs": [],
   "source": []
  }
 ],
 "metadata": {
  "kernelspec": {
   "display_name": "Python 3 (ipykernel)",
   "language": "python",
   "name": "python3"
  },
  "language_info": {
   "codemirror_mode": {
    "name": "ipython",
    "version": 3
   },
   "file_extension": ".py",
   "mimetype": "text/x-python",
   "name": "python",
   "nbconvert_exporter": "python",
   "pygments_lexer": "ipython3",
   "version": "3.13.5"
  }
 },
 "nbformat": 4,
 "nbformat_minor": 5
}
