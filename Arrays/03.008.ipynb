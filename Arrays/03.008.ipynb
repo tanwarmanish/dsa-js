{
 "cells": [
  {
   "cell_type": "markdown",
   "id": "c34a9bd0-ab71-4fee-a298-5edb4268d08e",
   "metadata": {},
   "source": [
    "# Heap Sort"
   ]
  },
  {
   "cell_type": "markdown",
   "id": "e7c12fa8-1a85-4a42-86b6-b8ac617f538f",
   "metadata": {},
   "source": [
    "## Description\n",
    "- [Problem](https://www.geeksforgeeks.org/dsa/heap-sort/)"
   ]
  },
  {
   "cell_type": "code",
   "execution_count": 25,
   "id": "552934ce-a1d5-48fe-84a1-9fa9b17e69a4",
   "metadata": {},
   "outputs": [
    {
     "name": "stdout",
     "output_type": "stream",
     "text": [
      "Result  1,1,2,2,3,3,5,6,8,9,10\n"
     ]
    }
   ],
   "source": [
    "let list = [10,9,8,1,2,3,6,5,3,1,2];\n",
    "\n",
    "function heapify(list,n,i){\n",
    "    let largest = i;\n",
    "    let l = 2*i + 1;\n",
    "    let r = 2*i + 2;\n",
    "\n",
    "    if( (l < n) && (list[l] > list[largest]) ) largest = l;\n",
    "    if( (r < n) && (list[r] > list[largest]) ) largest = r;\n",
    "\n",
    "    if ( largest != i ){\n",
    "        [list[largest],list[i]] = [list[i],list[largest]];\n",
    "        heapify(list,n,largest);\n",
    "    }\n",
    "}\n",
    "\n",
    "function heapSort(list){\n",
    "    let n = list.length;\n",
    "    \n",
    "    // build heap\n",
    "    for(let i=n-1;i>=0;i--){\n",
    "        heapify(list,n,i);\n",
    "    }\n",
    "\n",
    "    // remove max \n",
    "    for(let i=n-1;i>=0;i--){\n",
    "        n--;\n",
    "        [list[i],list[0]] = [list[0],list[i]];\n",
    "        heapify(list,i,0);\n",
    "    }\n",
    "}\n",
    "\n",
    "heapSort(list);\n",
    "console.log(\"Result \",list.join())"
   ]
  },
  {
   "cell_type": "code",
   "execution_count": null,
   "id": "79e540d6-fe1a-48bc-9341-f73c71f64ce3",
   "metadata": {},
   "outputs": [],
   "source": []
  },
  {
   "cell_type": "code",
   "execution_count": null,
   "id": "7eb30d36-6f80-40ba-80f4-24479b637308",
   "metadata": {},
   "outputs": [],
   "source": []
  }
 ],
 "metadata": {
  "kernelspec": {
   "display_name": "Deno",
   "language": "typescript",
   "name": "deno"
  },
  "language_info": {
   "codemirror_mode": "typescript",
   "file_extension": ".ts",
   "mimetype": "text/x.typescript",
   "name": "typescript",
   "nbconvert_exporter": "script",
   "pygments_lexer": "typescript",
   "version": "5.8.3"
  }
 },
 "nbformat": 4,
 "nbformat_minor": 5
}
