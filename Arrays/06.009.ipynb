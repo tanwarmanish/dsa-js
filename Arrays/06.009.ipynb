{
 "cells": [
  {
   "cell_type": "markdown",
   "id": "54cab131",
   "metadata": {},
   "source": [
    "# Jump Game - Minimum Jumps to Reach End"
   ]
  },
  {
   "cell_type": "markdown",
   "id": "72f0e44e",
   "metadata": {},
   "source": [
    "## Description\n",
    "- [Problem](https://www.geeksforgeeks.org/dsa/minimum-number-of-jumps-to-reach-end-of-a-given-array/)\n",
    "- Given an array\n",
    "<p dir=\"ltr\"><b><strong>Input: </strong></b><span>arr[] = [1, 3, 5, 8, 9, 2, 6, 7, 6, 8, 9]</span><br/><b><strong>Output: </strong></b><span>3 </span><br/><b><strong>Explanation:</strong></b><span> First jump from 1st element to 2nd element with value 3. From here we jump to 5th element with value 9, and from here we will jump to the last. </span></p>"
   ]
  },
  {
   "cell_type": "code",
   "execution_count": null,
   "id": "fab99fa8",
   "metadata": {},
   "outputs": [],
   "source": []
  }
 ],
 "metadata": {},
 "nbformat": 4,
 "nbformat_minor": 5
}
