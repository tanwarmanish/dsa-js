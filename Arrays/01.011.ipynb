{
 "cells": [
  {
   "cell_type": "markdown",
   "id": "50a0d245",
   "metadata": {},
   "source": [
    "# Minimum cost to make array size 1 by removing larger of pairs"
   ]
  },
  {
   "cell_type": "markdown",
   "id": "d9b83033",
   "metadata": {},
   "source": [
    "## Description\n",
    "- [Problem](https://www.geeksforgeeks.org/dsa/minimum-cost-make-array-size-1-removing-larger-pairs/)\n",
    "- Given an array of n integers. We need to reduce size of array to one. We are allowed to select a pair of integers and remove the larger one of these two. This decreases the array size by 1. Cost of this operation is equal to value of smallest one. Find out minimum sum of costs of operations needed to convert the array into a single element.\n",
    "<p dir=\"ltr\"><b><strong>Input</strong></b><span>: arr[]= [4 ,3 ,2 ]</span><br/><b><strong>Output</strong></b><span>: 4</span><br/><b><strong>Explanation</strong></b><span>: Choose (4, 2) so 4 is removed, new array = {2, 3}. Now choose (2, 3) so 3 is removed.  So total cost = 2 + 2 = 4.</span><br/><br/><b><strong>Input</strong></b><span>: arr[]=[ 3, 4 ]</span><br/><b><strong>Output</strong></b><span>: 3</span><br/><b><strong>Explanation</strong></b><span>: choose (3, 4) so cost is 3. </span></p>"
   ]
  },
  {
   "cell_type": "code",
   "execution_count": 2,
   "id": "cbc99ad3",
   "metadata": {},
   "outputs": [
    {
     "name": "stdout",
     "output_type": "stream",
     "text": [
      "Minimum Cost  \u001b[33m4\u001b[39m\n"
     ]
    }
   ],
   "source": [
    "const list = [4,3,2];\n",
    "\n",
    "function minimumCost(list){\n",
    "    const n = list.length;\n",
    "    return (n-1)*Math.min(...list);\n",
    "}\n",
    "\n",
    "const cost = minimumCost(list);\n",
    "console.log(\"Minimum Cost \",minimumCost(list));"
   ]
  },
  {
   "cell_type": "code",
   "execution_count": null,
   "id": "57b8f4c4-e00e-4253-a99a-ec1cc4ba3feb",
   "metadata": {},
   "outputs": [],
   "source": []
  }
 ],
 "metadata": {
  "kernelspec": {
   "display_name": "Deno",
   "language": "typescript",
   "name": "deno"
  },
  "language_info": {
   "codemirror_mode": "typescript",
   "file_extension": ".ts",
   "mimetype": "text/x.typescript",
   "name": "typescript",
   "nbconvert_exporter": "script",
   "pygments_lexer": "typescript",
   "version": "5.8.3"
  }
 },
 "nbformat": 4,
 "nbformat_minor": 5
}
