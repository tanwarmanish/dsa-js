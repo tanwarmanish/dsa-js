{
 "cells": [
  {
   "cell_type": "markdown",
   "id": "55206bdf",
   "metadata": {},
   "source": [
    "# 3 Sum - Triplet Sum in Array"
   ]
  },
  {
   "cell_type": "markdown",
   "id": "3c3490a1",
   "metadata": {},
   "source": [
    "## Description\n",
    "- [Problem](https://www.geeksforgeeks.org/dsa/find-a-triplet-that-sum-to-a-given-value/)\n",
    "- Given an array\n",
    "<p dir=\"ltr\"><b><strong>Input:</strong></b><span> arr[] = [1, 4, 45, 6, 10, 8], target = 13</span><br/><b><strong>Output:</strong></b><span> true</span><br/><b><strong>Explanation: </strong></b><span>The triplet [1, 4, 8] sums up to 13</span></p>"
   ]
  },
  {
   "cell_type": "code",
   "execution_count": null,
   "id": "9c4d73a8",
   "metadata": {},
   "outputs": [],
   "source": []
  }
 ],
 "metadata": {},
 "nbformat": 4,
 "nbformat_minor": 5
}
