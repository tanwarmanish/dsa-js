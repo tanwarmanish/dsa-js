{
 "cells": [
  {
   "cell_type": "markdown",
   "id": "e9a16da6",
   "metadata": {},
   "source": [
    "# Majority Element"
   ]
  },
  {
   "cell_type": "markdown",
   "id": "af4f5ce1",
   "metadata": {},
   "source": [
    "## Description\n",
    "- [Problem](https://www.geeksforgeeks.org/dsa/majority-element/)\n",
    "- Given an array\n",
    "<p dir=\"ltr\"><b><strong>Input:</strong></b><span> arr[] = [1, 1, 2, 1, 3, 5, 1]</span><br/><b><strong>Output:</strong></b><span> 1</span><br/><b><strong>Explanation:</strong></b><span> Element 1 appears 4 times. Since ⌊7/2⌋ = 3, and 4 &gt; 3, it is the majority element.</span></p>"
   ]
  },
  {
   "cell_type": "code",
   "execution_count": null,
   "id": "621d1b5c",
   "metadata": {},
   "outputs": [],
   "source": []
  }
 ],
 "metadata": {},
 "nbformat": 4,
 "nbformat_minor": 5
}
