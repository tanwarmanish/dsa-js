{
 "cells": [
  {
   "cell_type": "markdown",
   "id": "854db659",
   "metadata": {},
   "source": [
    "# Maximum Subarray Sum  - Kadane's Algorithm"
   ]
  },
  {
   "cell_type": "markdown",
   "id": "60678f47",
   "metadata": {},
   "source": [
    "## Description\n",
    "- [Problem](https://www.geeksforgeeks.org/dsa/largest-sum-contiguous-subarray/)\n",
    "- Given an integer array\n",
    "<p dir=\"ltr\"><b><strong>Input: </strong></b><span>arr[] = [2, 3, -8, 7, -1, 2, 3]</span><br/><b><strong>Output:</strong></b><span> 11</span><br/><b><strong>Explanation: </strong></b><span>The subarray [7, -1, 2, 3] has the largest sum 11.</span></p>"
   ]
  },
  {
   "cell_type": "code",
   "execution_count": null,
   "id": "08164707",
   "metadata": {},
   "outputs": [],
   "source": []
  }
 ],
 "metadata": {},
 "nbformat": 4,
 "nbformat_minor": 5
}
