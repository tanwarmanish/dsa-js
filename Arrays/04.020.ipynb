{
 "cells": [
  {
   "cell_type": "markdown",
   "id": "8a136723",
   "metadata": {},
   "source": [
    "# 4 Sum - Find any quadruplet having given sum"
   ]
  },
  {
   "cell_type": "markdown",
   "id": "a86266a4",
   "metadata": {},
   "source": [
    "## Description\n",
    "- [Problem](https://www.geeksforgeeks.org/dsa/4-sum-find-any-quadruplet-having-given-sum/)\n",
    "- Given an array\n",
    "<p dir=\"ltr\"><b><strong>Input: </strong></b><span>arr[] = {2, 4, 6, 8, 1, 3}, target = 15</span><br/><b><strong>Output: </strong></b><span>{2, 4, 6, 3}</span><br/><b><strong>Explanation:</strong></b><span> The quadruplet {2, 4, 6, 3} has sum = 15.</span></p>"
   ]
  },
  {
   "cell_type": "code",
   "execution_count": null,
   "id": "a3134694",
   "metadata": {},
   "outputs": [],
   "source": []
  }
 ],
 "metadata": {},
 "nbformat": 4,
 "nbformat_minor": 5
}
