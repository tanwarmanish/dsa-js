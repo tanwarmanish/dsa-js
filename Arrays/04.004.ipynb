{
 "cells": [
  {
   "cell_type": "markdown",
   "id": "f818c0dc",
   "metadata": {},
   "source": [
    "# Product of Array Except Self"
   ]
  },
  {
   "cell_type": "markdown",
   "id": "33dd5211",
   "metadata": {},
   "source": [
    "## Description\n",
    "- [Problem](https://www.geeksforgeeks.org/dsa/a-product-array-puzzle/)\n",
    "- Given an array arr[] of n integers, construct a\n",
    "<p dir=\"ltr\"><b><strong>Input</strong></b><span>: arr[] = [10, 3, 5, 6, 2]</span><br/><b><strong>Output</strong></b><span>: [180, 600, 360, 300, 900]</span><br/><b><strong>Explanation</strong></b><span>: </span></p>"
   ]
  },
  {
   "cell_type": "code",
   "execution_count": null,
   "id": "8238f816",
   "metadata": {},
   "outputs": [],
   "source": []
  }
 ],
 "metadata": {},
 "nbformat": 4,
 "nbformat_minor": 5
}
