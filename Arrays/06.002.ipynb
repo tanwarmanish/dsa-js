{
 "cells": [
  {
   "cell_type": "markdown",
   "id": "5a7a1c69",
   "metadata": {},
   "source": [
    "# Square Root (Sqrt) Decomposition Algorithm"
   ]
  },
  {
   "cell_type": "markdown",
   "id": "6bcf42e6",
   "metadata": {},
   "source": [
    "## Description\n",
    "- [Problem](https://www.geeksforgeeks.org/dsa/square-root-sqrt-decomposition-algorithm/)\n",
    "- Square Root Decomposition Technique is one of the most\n",
    "<p dir=\"ltr\"><span>The key concept of this technique is to decompose a given array into small chunks specifically of size sqrt(N)</span></p>"
   ]
  },
  {
   "cell_type": "code",
   "execution_count": null,
   "id": "fdbca23d",
   "metadata": {},
   "outputs": [],
   "source": []
  }
 ],
 "metadata": {},
 "nbformat": 4,
 "nbformat_minor": 5
}
