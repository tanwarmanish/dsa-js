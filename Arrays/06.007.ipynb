{
 "cells": [
  {
   "cell_type": "markdown",
   "id": "d307f975",
   "metadata": {},
   "source": [
    "# Range LCM Queries"
   ]
  },
  {
   "cell_type": "markdown",
   "id": "77898374",
   "metadata": {},
   "source": [
    "## Description\n",
    "- [Problem](https://www.geeksforgeeks.org/dsa/range-lcm-queries/)\n",
    "- Given an array arr[] of integers of size N and an array of Q queries, query[], where each query is of type [L, R] denoting the range from index L to index R, the task is to find the LCM of all the numbers of the range for all the queries.\n",
    "<p dir=\"ltr\"><b><strong>Input:</strong></b><span> arr[] = {5, 7, 5, 2, 10, 12 ,11, 17, 14, 1, 44}</span><br/><span>query[] = {{2, 5}, {5, 10}, {0, 10}}</span><br/><b><strong>Output:</strong></b><span> 60,15708, 78540</span><br/><b><strong>Explanation:</strong></b><span> In the first query LCM(5, 2, 10, 12) = 60 </span><br/><span>In the second query LCM(12, 11, 17, 14, 1, 44) = 15708</span><br/><span>In the last query LCM(5, 7, 5, 2, 10, 12, 11, 17, 14, 1, 44) = 78540</span></p>"
   ]
  },
  {
   "cell_type": "code",
   "execution_count": null,
   "id": "777858ac",
   "metadata": {},
   "outputs": [],
   "source": []
  }
 ],
 "metadata": {},
 "nbformat": 4,
 "nbformat_minor": 5
}
