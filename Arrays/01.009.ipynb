{
 "cells": [
  {
   "cell_type": "markdown",
   "id": "41fb9d67",
   "metadata": {},
   "source": [
    "# Minimum increment by k operations to make all equal"
   ]
  },
  {
   "cell_type": "markdown",
   "id": "6fa77e6b",
   "metadata": {},
   "source": [
    "## Description\n",
    "- [Problem](https://www.geeksforgeeks.org/dsa/minimum-increment-k-operations-make-elements-equal/)\n",
    "- You are given an array of n-elements, you have to find the number of operations needed to make all elements of array equal. Where a single operation can increment an element by k. If it is not possible to make all elements equal print -1.\n",
    "<p dir=\"ltr\"><b><strong>Input :</strong></b><span> arr[] = {4, 7, 19, 16},  k = 3</span><br/><b><strong>Output :</strong></b><span> 10</span><br/><br/><b><strong>Input :</strong></b><span> arr[] = {4, 4, 4, 4}, k = 3</span><br/><b><strong>Output :</strong></b><span> 0</span><br/><br/><b><strong>Input :</strong></b><span> arr[] = {4, 2, 6, 8}, k = 3</span><br/><b><strong>Output :</strong></b><span> -1</span></p>"
   ]
  },
  {
   "cell_type": "code",
   "execution_count": 9,
   "id": "22f873df",
   "metadata": {},
   "outputs": [
    {
     "name": "stdout",
     "output_type": "stream",
     "text": [
      "Min Increment by k  \u001b[33m0\u001b[39m\n"
     ]
    }
   ],
   "source": [
    "const list = [4,4,4,4];\n",
    "const k = 3;\n",
    "\n",
    "function minIncrement(list,k){\n",
    "    // find minimum\n",
    "    let min = list[0];\n",
    "    for(let i=1;i<list.length;i++) \n",
    "        if(list[i]<min) min = list[i];\n",
    "\n",
    "    let count = 0;\n",
    "    for(let i=0;i<list.length;i++){\n",
    "        let result = (list[i] - min)/k;\n",
    "        if(!Number.isInteger(result)) return -1;\n",
    "        count += result;\n",
    "    }\n",
    "\n",
    "    return count;\n",
    "}\n",
    "\n",
    "const result = minIncrement(list,k);\n",
    "console.log(\"Min Increment by k \", result);"
   ]
  },
  {
   "cell_type": "code",
   "execution_count": null,
   "id": "e9fa6309-56e4-4796-ac90-2cd049ea8ffd",
   "metadata": {},
   "outputs": [],
   "source": []
  }
 ],
 "metadata": {
  "kernelspec": {
   "display_name": "Deno",
   "language": "typescript",
   "name": "deno"
  },
  "language_info": {
   "codemirror_mode": "typescript",
   "file_extension": ".ts",
   "mimetype": "text/x.typescript",
   "name": "typescript",
   "nbconvert_exporter": "script",
   "pygments_lexer": "typescript",
   "version": "5.8.3"
  }
 },
 "nbformat": 4,
 "nbformat_minor": 5
}
