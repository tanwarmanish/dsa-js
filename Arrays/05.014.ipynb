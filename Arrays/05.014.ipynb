{
 "cells": [
  {
   "cell_type": "markdown",
   "id": "bab38571",
   "metadata": {},
   "source": [
    "# 4 Sum - Quadruplet Sum Closest to Target"
   ]
  },
  {
   "cell_type": "markdown",
   "id": "37a014fa",
   "metadata": {},
   "source": [
    "## Description\n",
    "- [Problem](https://www.geeksforgeeks.org/dsa/4-sum-find-a-quadruplet-with-closest-sum/)\n",
    "- Given an array\n",
    "<p dir=\"ltr\"><b><strong>Input</strong></b><span>: arr[] = {4, 5, 3, 4, 1, 2}, target = 13</span><br/><b><strong>Output</strong></b><span>: {4, 5, 3, 1}</span><br/><b><strong>Explanation</strong></b><span>:</span><br/><span>Sum of quadruplets:</span><br/><span>4 + 5 + 3 + 4 = 16</span><br/><b><strong>4 + 5 + 3 + 1 = 13</strong></b><br/><span>4 + 5 + 3 + 2 = 14</span><br/><span>5 + 3 + 4 + 4 = 16</span><br/><span>....</span><br/><span>Quadruplet having sum 13 is closest to the target.</span></p>"
   ]
  },
  {
   "cell_type": "code",
   "execution_count": null,
   "id": "97bcee14",
   "metadata": {},
   "outputs": [],
   "source": []
  }
 ],
 "metadata": {
  "kernelspec": {
   "display_name": "Python 3 (ipykernel)",
   "language": "python",
   "name": "python3"
  },
  "language_info": {
   "codemirror_mode": {
    "name": "ipython",
    "version": 3
   },
   "file_extension": ".py",
   "mimetype": "text/x-python",
   "name": "python",
   "nbconvert_exporter": "python",
   "pygments_lexer": "ipython3",
   "version": "3.13.5"
  }
 },
 "nbformat": 4,
 "nbformat_minor": 5
}
