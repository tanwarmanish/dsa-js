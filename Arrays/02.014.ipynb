{
 "cells": [
  {
   "cell_type": "markdown",
   "id": "5db1f18b",
   "metadata": {},
   "source": [
    "# Split array into three equal sum segments"
   ]
  },
  {
   "cell_type": "markdown",
   "id": "561338d5",
   "metadata": {},
   "source": [
    "## Description\n",
    "- [Problem](https://www.geeksforgeeks.org/dsa/split-array-three-equal-sum-subarrays/)\n",
    "- Given an integer array\n",
    "<p dir=\"ltr\"><b><strong>Input:</strong></b><span> arr[] = [1, 3, 4, 0, 4]</span><br/><b><strong>Output:</strong></b><span> [1, 2]</span><br/><b><strong>Explanation</strong></b><span>: 3 equal sum segments are: arr[0...1], arr[2...2] and arr[3...4] each having sum = 4.</span></p>"
   ]
  },
  {
   "cell_type": "code",
   "execution_count": null,
   "id": "59fa8a7b",
   "metadata": {},
   "outputs": [],
   "source": []
  }
 ],
 "metadata": {},
 "nbformat": 4,
 "nbformat_minor": 5
}
