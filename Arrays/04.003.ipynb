{
 "cells": [
  {
   "cell_type": "markdown",
   "id": "6ed80251",
   "metadata": {},
   "source": [
    "# Reorder an array according to given indexes"
   ]
  },
  {
   "cell_type": "markdown",
   "id": "13fd3581",
   "metadata": {},
   "source": [
    "## Description\n",
    "- [Problem](https://www.geeksforgeeks.org/dsa/reorder-a-array-according-to-given-indexes/)\n",
    "- Given two integer arrays of the\n",
    "<p dir=\"ltr\"><b><strong>Input: </strong></b><span>arr[] = [10, 11, 12], index[] = [1, 0, 2]</span><br/><b><strong>Output:</strong></b><span> 11 10 12</span><br/><b><strong>Explanation:</strong></b><span> 10 moves to position 1, 11 to 0, and 12 stays at 2.</span></p>"
   ]
  },
  {
   "cell_type": "code",
   "execution_count": null,
   "id": "fb71ea29",
   "metadata": {},
   "outputs": [],
   "source": []
  }
 ],
 "metadata": {},
 "nbformat": 4,
 "nbformat_minor": 5
}
