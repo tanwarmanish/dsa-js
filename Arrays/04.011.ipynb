{
 "cells": [
  {
   "cell_type": "markdown",
   "id": "3085de4b",
   "metadata": {},
   "source": [
    "# Subarray with Given Sum"
   ]
  },
  {
   "cell_type": "markdown",
   "id": "2352aefd",
   "metadata": {},
   "source": [
    "## Description\n",
    "- [Problem](https://www.geeksforgeeks.org/dsa/find-subarray-with-given-sum/)\n",
    "- Given a 1-based indexing array\n",
    "<p dir=\"ltr\"><b><strong>Input</strong></b><span>: arr[] = [15, 2, 4, 8, 9, 5, 10, 23], target = 23</span><br/><b><strong>Output</strong></b><span>: [2, 5]</span><br/><i><b><strong class=\"GFGEditorTheme__textItalic\">Explanation: </strong></b></i><span>Sum of subarray arr[2...5] is 2 + 4 + 8 + 9 = 23.</span></p>"
   ]
  },
  {
   "cell_type": "code",
   "execution_count": null,
   "id": "6cb7aedc",
   "metadata": {},
   "outputs": [],
   "source": []
  }
 ],
 "metadata": {
  "kernelspec": {
   "display_name": "Python 3 (ipykernel)",
   "language": "python",
   "name": "python3"
  },
  "language_info": {
   "codemirror_mode": {
    "name": "ipython",
    "version": 3
   },
   "file_extension": ".py",
   "mimetype": "text/x-python",
   "name": "python",
   "nbconvert_exporter": "python",
   "pygments_lexer": "ipython3",
   "version": "3.13.5"
  }
 },
 "nbformat": 4,
 "nbformat_minor": 5
}
