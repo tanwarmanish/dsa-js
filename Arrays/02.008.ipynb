{
 "cells": [
  {
   "cell_type": "markdown",
   "id": "a7efc9e4",
   "metadata": {},
   "source": [
    "# Only Repeating From 1 To n-1"
   ]
  },
  {
   "cell_type": "markdown",
   "id": "cc490339",
   "metadata": {},
   "source": [
    "## Description\n",
    "- [Problem](https://www.geeksforgeeks.org/dsa/find-repetitive-element-1-n-1/)\n",
    "- Given an array\n",
    "<p dir=\"ltr\"><b><strong>Input: </strong></b><span>arr[] = [1, 3, 2, 3, 4]</span><br/><b><strong>Output: </strong></b><span>3</span><br/><b><strong>Explanation:</strong></b><span> The number 3 is the only repeating element.</span></p>"
   ]
  },
  {
   "cell_type": "code",
   "execution_count": null,
   "id": "4fbedfce",
   "metadata": {},
   "outputs": [],
   "source": []
  }
 ],
 "metadata": {},
 "nbformat": 4,
 "nbformat_minor": 5
}
