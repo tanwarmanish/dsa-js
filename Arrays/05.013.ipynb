{
 "cells": [
  {
   "cell_type": "markdown",
   "id": "da9a27b1",
   "metadata": {},
   "source": [
    "# 4 Sum - Quadruplet Sum Closest to Target"
   ]
  },
  {
   "cell_type": "markdown",
   "id": "845588b4",
   "metadata": {},
   "source": [
    "## Description\n",
    "- [Problem](https://www.geeksforgeeks.org/dsa/4-sum-find-a-quadruplet-with-closest-sum/)\n",
    "- Given an array\n",
    "<p dir=\"ltr\"><b><strong>Input</strong></b><span>: arr[] = {4, 5, 3, 4, 1, 2}, target = 13</span><br/><b><strong>Output</strong></b><span>: {4, 5, 3, 1}</span><br/><b><strong>Explanation</strong></b><span>:</span><br/><span>Sum of quadruplets:</span><br/><span>4 + 5 + 3 + 4 = 16</span><br/><b><strong>4 + 5 + 3 + 1 = 13</strong></b><br/><span>4 + 5 + 3 + 2 = 14</span><br/><span>5 + 3 + 4 + 4 = 16</span><br/><span>....</span><br/><span>Quadruplet having sum 13 is closest to the target.</span></p>"
   ]
  },
  {
   "cell_type": "code",
   "execution_count": null,
   "id": "a71df7af",
   "metadata": {},
   "outputs": [],
   "source": []
  }
 ],
 "metadata": {},
 "nbformat": 4,
 "nbformat_minor": 5
}
