{
 "cells": [
  {
   "cell_type": "markdown",
   "id": "ec8e2a14",
   "metadata": {},
   "source": [
    "# Rearrange array such that even positioned are greater than odd"
   ]
  },
  {
   "cell_type": "markdown",
   "id": "32a976ce",
   "metadata": {},
   "source": [
    "## Description\n",
    "- [Problem](https://www.geeksforgeeks.org/dsa/rearrange-array-such-that-even-positioned-are-greater-than-odd/)\n",
    "- Given an array\n",
    "<p dir=\"ltr\"><b><strong>Input:</strong></b><span> arr[] = [1, 2, 2, 1]</span><br/><b><strong>Output: [</strong></b><span>1 2 1 2]</span><br/><b><strong> Explanation:</strong></b><br/><span>For i = 2, arr[i] &gt;= arr[i-1]. So, 2 &gt;= 1.</span><br/><span>For i = 3, arr[i] &lt;= arr[i-1]. So, 1 &lt;= 2.</span><br/><span>For i = 4, arr[i] &gt;= arr[i-1]. So, 2 &gt;= 1.</span></p>"
   ]
  },
  {
   "cell_type": "code",
   "execution_count": null,
   "id": "b334ca66",
   "metadata": {},
   "outputs": [],
   "source": []
  }
 ],
 "metadata": {},
 "nbformat": 4,
 "nbformat_minor": 5
}
