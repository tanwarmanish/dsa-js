{
 "cells": [
  {
   "cell_type": "markdown",
   "id": "999ba579",
   "metadata": {},
   "source": [
    "# K-th Largest Sum Contiguous Subarray"
   ]
  },
  {
   "cell_type": "markdown",
   "id": "0d42b9cd",
   "metadata": {},
   "source": [
    "## Description\n",
    "- [Problem](https://www.geeksforgeeks.org/dsa/k-th-largest-sum-contiguous-subarray/)\n",
    "- Given an array\n",
    "<p dir=\"ltr\"><b><strong>Input:</strong></b><span> arr[] = [20, -5, -1], k = 3</span><br/><b><strong>Output:</strong></b><span> 14</span><br/><b><strong>Explanation:</strong></b><span> All sum of contiguous subarrays are (20, 15, 14, -5, -6, -1), so the 3rd largest sum is 14.</span></p>"
   ]
  },
  {
   "cell_type": "code",
   "execution_count": null,
   "id": "310edff8",
   "metadata": {},
   "outputs": [],
   "source": []
  }
 ],
 "metadata": {},
 "nbformat": 4,
 "nbformat_minor": 5
}
