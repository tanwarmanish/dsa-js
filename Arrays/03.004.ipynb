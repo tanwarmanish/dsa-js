{
 "cells": [
  {
   "cell_type": "markdown",
   "id": "a69383f4",
   "metadata": {},
   "source": [
    "# Binary Sort"
   ]
  },
  {
   "cell_type": "markdown",
   "id": "9e2b525b",
   "metadata": {},
   "source": [
    "## Description\n",
    "- [Problem](https://www.geeksforgeeks.org/dsa/bubble-sort-algorithm/)"
   ]
  },
  {
   "cell_type": "code",
   "execution_count": 18,
   "id": "693dd805",
   "metadata": {},
   "outputs": [],
   "source": [
    "const list = [10,9,8,7,6,5,4,3,2,1];"
   ]
  },
  {
   "cell_type": "code",
   "execution_count": 19,
   "id": "56523e9d-c5a6-4586-91e4-0d91f4da3995",
   "metadata": {},
   "outputs": [
    {
     "name": "stdout",
     "output_type": "stream",
     "text": [
      "[\n",
      "  \u001b[33m1\u001b[39m, \u001b[33m2\u001b[39m, \u001b[33m3\u001b[39m, \u001b[33m4\u001b[39m,  \u001b[33m5\u001b[39m,\n",
      "  \u001b[33m6\u001b[39m, \u001b[33m7\u001b[39m, \u001b[33m8\u001b[39m, \u001b[33m9\u001b[39m, \u001b[33m10\u001b[39m\n",
      "]\n"
     ]
    }
   ],
   "source": [
    "function binarySort(list){\n",
    "    list = JSON.parse(JSON.stringify(list));\n",
    "    let count = 0;\n",
    "    for(let i=0;i<list.length;i++){\n",
    "        let swapped = false;\n",
    "        count++;\n",
    "        for(let j=0;j<list.length-i;j++){\n",
    "            count++;\n",
    "            if(list[j]>list[j+1]){\n",
    "                swapped = true;\n",
    "                let temp = list[j];\n",
    "                list[j] = list[j+1];\n",
    "                list[j+1] = temp;\n",
    "            }\n",
    "        }\n",
    "        if(!swapped) break;\n",
    "    }\n",
    "    \n",
    "    return list;\n",
    "}\n",
    "\n",
    "const result = binarySort(list);\n",
    "console.log(result);"
   ]
  },
  {
   "cell_type": "code",
   "execution_count": null,
   "id": "f00763b0-27a3-40a3-ba61-83942e600f02",
   "metadata": {},
   "outputs": [],
   "source": []
  }
 ],
 "metadata": {
  "kernelspec": {
   "display_name": "Deno",
   "language": "typescript",
   "name": "deno"
  },
  "language_info": {
   "codemirror_mode": "typescript",
   "file_extension": ".ts",
   "mimetype": "text/x.typescript",
   "name": "typescript",
   "nbconvert_exporter": "script",
   "pygments_lexer": "typescript",
   "version": "5.8.3"
  }
 },
 "nbformat": 4,
 "nbformat_minor": 5
}
