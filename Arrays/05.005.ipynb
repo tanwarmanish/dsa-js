{
 "cells": [
  {
   "cell_type": "markdown",
   "id": "218ab7cd",
   "metadata": {},
   "source": [
    "# Stock Buy and Sell -  At-most k Transactions Allowed"
   ]
  },
  {
   "cell_type": "markdown",
   "id": "edc5dcdf",
   "metadata": {},
   "source": [
    "## Description\n",
    "- [Problem](https://www.geeksforgeeks.org/dsa/maximum-profit-by-buying-and-selling-a-share-at-most-k-times/)\n",
    "- In share trading, a buyer buys shares and sells on a future date. Given the stock price of n days, the trader is allowed to make at most k transactions (a transaction is a combination of a buy and a sell), where a new transaction can only start after the previous transaction is complete, find out the maximum profit that a share trader could have made.\n",
    "<p dir=\"ltr\"><b><strong>Input: </strong></b><span>prices = [10, 22, 5, 80], k = 2</span><br/><b><strong>Output:</strong></b><span> 87</span><br/><b><strong>Explanation: </strong></b><span>Buy on 1st day at 10 and sell on 2nd day at 22. Then, again buy on 3rd day at 5 and sell on 4th day at 80. Total profit = 12 + 75 = 87</span></p>"
   ]
  },
  {
   "cell_type": "code",
   "execution_count": null,
   "id": "cfdbed77",
   "metadata": {},
   "outputs": [],
   "source": []
  }
 ],
 "metadata": {},
 "nbformat": 4,
 "nbformat_minor": 5
}
