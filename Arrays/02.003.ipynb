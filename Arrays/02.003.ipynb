{
 "cells": [
  {
   "cell_type": "markdown",
   "id": "7b1bb62e",
   "metadata": {},
   "source": [
    "# Sum of all Subarrays"
   ]
  },
  {
   "cell_type": "markdown",
   "id": "aa1f494e",
   "metadata": {},
   "source": [
    "## Description\n",
    "- [Problem](https://www.geeksforgeeks.org/dsa/sum-of-all-subarrays/)\n",
    "- Given an integer array\n",
    "<p dir=\"ltr\"><b><strong>Input: </strong></b><span>arr[] = [1, 4, 5, 3, 2]</span><br/><b><strong>Output:</strong></b><span> 116</span><br/><b><strong>Explanation: </strong></b><span>Sum of all possible subarrays of the array [1, 4, 5, 3, 2] is 116.</span></p>"
   ]
  },
  {
   "cell_type": "code",
   "execution_count": null,
   "id": "9035e6d1",
   "metadata": {},
   "outputs": [],
   "source": []
  }
 ],
 "metadata": {},
 "nbformat": 4,
 "nbformat_minor": 5
}
