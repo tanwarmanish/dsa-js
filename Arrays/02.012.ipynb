{
 "cells": [
  {
   "cell_type": "markdown",
   "id": "a1349d6c",
   "metadata": {},
   "source": [
    "# Two Sum - Pair with given Sum"
   ]
  },
  {
   "cell_type": "markdown",
   "id": "c5116fe5",
   "metadata": {},
   "source": [
    "## Description\n",
    "- [Problem](https://www.geeksforgeeks.org/dsa/check-if-pair-with-given-sum-exists-in-array/)\n",
    "- Given an array\n",
    "<p dir=\"ltr\"><b><strong>Input</strong></b><span>: arr[] = [0, -1, 2, -3, 1], target = -2</span><br/><b><strong>Output</strong></b><span>: true</span><br/><b><strong>Explanation</strong></b><span>: There is a pair (1, -3) with the sum equal to given target, 1 + (-3) = -2.</span></p>"
   ]
  },
  {
   "cell_type": "code",
   "execution_count": null,
   "id": "8eb6e063",
   "metadata": {},
   "outputs": [],
   "source": []
  }
 ],
 "metadata": {},
 "nbformat": 4,
 "nbformat_minor": 5
}
