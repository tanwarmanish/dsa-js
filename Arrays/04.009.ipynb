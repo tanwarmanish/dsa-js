{
 "cells": [
  {
   "cell_type": "markdown",
   "id": "a04591c1",
   "metadata": {},
   "source": [
    "# Count Possible Triangles"
   ]
  },
  {
   "cell_type": "markdown",
   "id": "8f58eaea",
   "metadata": {},
   "source": [
    "## Description\n",
    "- [Problem](https://www.geeksforgeeks.org/dsa/find-number-of-triangles-possible/)\n",
    "- Given an array of positive integers\n",
    "<p dir=\"ltr\"><b><strong>Input: </strong></b><span>arr[] = [4, 6, 3, 7]</span><br/><b><strong>Output: </strong></b><span>3</span><br/><b><strong>Explanation:</strong></b><span> There are three triangles possible [3, 4, 6], [4, 6, 7] and [3, 6, 7]. </span><br/><span>Note that [3, 4, 7] is not a possible triangle.  </span></p>"
   ]
  },
  {
   "cell_type": "code",
   "execution_count": null,
   "id": "1a7d8da6",
   "metadata": {},
   "outputs": [],
   "source": []
  }
 ],
 "metadata": {},
 "nbformat": 4,
 "nbformat_minor": 5
}
