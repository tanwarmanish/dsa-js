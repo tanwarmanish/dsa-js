{
 "cells": [
  {
   "cell_type": "markdown",
   "id": "ffcb394a",
   "metadata": {},
   "source": [
    "# Rotate an Array - Clockwise or Right"
   ]
  },
  {
   "cell_type": "markdown",
   "id": "b309da4b",
   "metadata": {},
   "source": [
    "## Description\n",
    "- [Problem](https://www.geeksforgeeks.org/dsa/complete-guide-on-array-rotations/)\n",
    "- Rotations in the array is defined as the process of rearranging the elements in an array by shifting each element to a new position. This is mostly done by rotating the elements of the array clockwise or counterclockwise.\n",
    "<p dir=\"ltr\" style=\"text-align: left;\"><b><strong>Input: </strong></b><span>arr[] = {1, 2, 3, 4, 5, 6}, d = 2</span><br/><b><strong>Output: </strong></b><span>{5, 6, 1, 2, 3, 4}</span><br/><b><strong>Explanation</strong></b><span>: After first right rotation, arr[] becomes {6, 1, 2, 3, 4, 5} and after the second rotation, arr[] becomes {5, 6, 1, 2, 3, 4}</span></p>"
   ]
  },
  {
   "cell_type": "code",
   "execution_count": 25,
   "id": "1b72e4c5",
   "metadata": {},
   "outputs": [
    {
     "name": "stdout",
     "output_type": "stream",
     "text": [
      "Rotate  [ \u001b[33m5\u001b[39m, \u001b[33m6\u001b[39m, \u001b[33m1\u001b[39m, \u001b[33m2\u001b[39m, \u001b[33m3\u001b[39m, \u001b[33m4\u001b[39m ]\n"
     ]
    }
   ],
   "source": [
    "const list = [1,2,3,4,5,6];\n",
    "const d = 2;\n",
    "\n",
    "function reverse(list,from,to){\n",
    "    while(from<to){\n",
    "        [list[from],list[to]] = [list[to],list[from]];\n",
    "        from++;\n",
    "        to--;\n",
    "    }\n",
    "}\n",
    "\n",
    "function rotate(list,d){\n",
    "    const n = list.length;\n",
    "    reverse(list,0,n-1);\n",
    "    reverse(list,0,d-1);\n",
    "    reverse(list,d,n-1);\n",
    "}\n",
    "\n",
    "rotate(list,d);\n",
    "console.log(\"Rotate \",list);"
   ]
  },
  {
   "cell_type": "code",
   "execution_count": null,
   "id": "82356c42-fe59-41ea-baa7-5d3a14347e73",
   "metadata": {},
   "outputs": [],
   "source": []
  }
 ],
 "metadata": {
  "kernelspec": {
   "display_name": "Deno",
   "language": "typescript",
   "name": "deno"
  },
  "language_info": {
   "codemirror_mode": "typescript",
   "file_extension": ".ts",
   "mimetype": "text/x.typescript",
   "name": "typescript",
   "nbconvert_exporter": "script",
   "pygments_lexer": "typescript",
   "version": "5.8.3"
  }
 },
 "nbformat": 4,
 "nbformat_minor": 5
}
