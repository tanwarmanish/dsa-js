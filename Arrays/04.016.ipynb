{
 "cells": [
  {
   "cell_type": "markdown",
   "id": "44fab984",
   "metadata": {},
   "source": [
    "# 2 Sum - Find All Pairs With Given Sum"
   ]
  },
  {
   "cell_type": "markdown",
   "id": "20212c54",
   "metadata": {},
   "source": [
    "## Description\n",
    "- [Problem](https://www.geeksforgeeks.org/dsa/2-sum-find-all-pairs-with-given-sum/)\n",
    "- Given an array\n",
    "<p dir=\"ltr\"><b><strong>Input: </strong></b><span>arr[] = {10, 20, 30, 20, 10, 30}, target = 50</span><br/><b><strong>Output: </strong></b><span>{{1, 2}, {1, 5}, {2, 3}, {3, 5}}</span><br/><b><strong>Explanation: </strong></b><span>All pairs with sum = 50 are:</span></p>"
   ]
  },
  {
   "cell_type": "code",
   "execution_count": null,
   "id": "21f4233f",
   "metadata": {},
   "outputs": [],
   "source": []
  }
 ],
 "metadata": {},
 "nbformat": 4,
 "nbformat_minor": 5
}
