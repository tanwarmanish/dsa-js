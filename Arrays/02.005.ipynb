{
 "cells": [
  {
   "cell_type": "markdown",
   "id": "d6fb0ae5",
   "metadata": {},
   "source": [
    "# Unique Number I"
   ]
  },
  {
   "cell_type": "markdown",
   "id": "d796197e",
   "metadata": {},
   "source": [
    "## Description\n",
    "- [Problem](https://www.geeksforgeeks.org/dsa/find-element-appears-array-every-element-appears-twice/)\n",
    "- Given an array of integers, every element in the array appears\n",
    "<p dir=\"ltr\"><b><strong>Input: </strong></b><span> arr[] = [2, 3, 5, 4, 5, 3, 4]</span><br/><b><strong>Output:</strong></b><span> 2 </span><br/><b><strong>Explanation: </strong></b><span>Since 2 occurs once, while other numbers occur twice, 2 is the answer.</span></p>"
   ]
  },
  {
   "cell_type": "code",
   "execution_count": null,
   "id": "2994ccb2",
   "metadata": {},
   "outputs": [],
   "source": []
  }
 ],
 "metadata": {},
 "nbformat": 4,
 "nbformat_minor": 5
}
