{
 "cells": [
  {
   "cell_type": "markdown",
   "id": "0af5c879",
   "metadata": {},
   "source": [
    "# Equilibrium Index"
   ]
  },
  {
   "cell_type": "markdown",
   "id": "7316bba0",
   "metadata": {},
   "source": [
    "## Description\n",
    "- [Problem](https://www.geeksforgeeks.org/dsa/equilibrium-index-of-an-array/)\n",
    "- Given an array arr[] of size n, the task is to return an equilibrium index (if any) or -1 if no equilibrium index exists. The equilibrium index of an array is an index such that the sum of all elements at lower indexes equals the sum of all elements at higher indexes.\n",
    "```\n",
    "Input: arr[] = [1, 2, 0, 3]\n",
    "Output: 2\n",
    "Explanation: The sum of left of index 2 is 1 + 2 = 3 and sum on right of index 2 is 3.\n",
    "\n",
    "Input: arr[] = [1, 1, 1, 1]\n",
    "Output: -1 \n",
    "Explanation: There is no equilibrium index in the array.\n",
    "\n",
    "Input: arr[] = [-7, 1, 5, 2, -4, 3, 0]\n",
    "Output: 3\n",
    "Explanation: The sum of left of index 3 is -7 + 1 + 5 = -1 and sum on right of index 3 is -4 + 3 + 0 = -1.\n",
    "```"
   ]
  },
  {
   "cell_type": "code",
   "execution_count": 15,
   "id": "db5b75db",
   "metadata": {},
   "outputs": [
    {
     "name": "stdout",
     "output_type": "stream",
     "text": [
      "Equilibrium Index  \u001b[33m2\u001b[39m\n"
     ]
    }
   ],
   "source": [
    "const list = [1,2,0,3];\n",
    "\n",
    "function equilibriumIndex(list) {\n",
    "    let pSum = 0;\n",
    "    const total = list.reduce((agg,x)=>agg+x,0);\n",
    "    \n",
    "    for(let i=0;i<list.length;i++){\n",
    "        let sSum = total - pSum - list[i];\n",
    "        if(pSum==sSum) return i;\n",
    "        pSum += list[i];\n",
    "    }\n",
    "    return -1;\n",
    "}\n",
    "\n",
    "const index = equilibriumIndex(list);\n",
    "console.log(\"Equilibrium Index \",index);"
   ]
  },
  {
   "cell_type": "code",
   "execution_count": null,
   "id": "e57a1596-bef7-416e-a87d-aea45b4ef3c3",
   "metadata": {},
   "outputs": [],
   "source": []
  }
 ],
 "metadata": {
  "kernelspec": {
   "display_name": "Deno",
   "language": "typescript",
   "name": "deno"
  },
  "language_info": {
   "codemirror_mode": "typescript",
   "file_extension": ".ts",
   "mimetype": "text/x.typescript",
   "name": "typescript",
   "nbconvert_exporter": "script",
   "pygments_lexer": "typescript",
   "version": "5.8.3"
  }
 },
 "nbformat": 4,
 "nbformat_minor": 5
}
