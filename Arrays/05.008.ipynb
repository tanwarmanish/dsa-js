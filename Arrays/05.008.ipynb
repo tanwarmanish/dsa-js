{
 "cells": [
  {
   "cell_type": "markdown",
   "id": "8a7158e1",
   "metadata": {},
   "source": [
    "# Smallest Difference Triplet from Three arrays"
   ]
  },
  {
   "cell_type": "markdown",
   "id": "36cba5c7",
   "metadata": {},
   "source": [
    "## Description\n",
    "- [Problem](https://www.geeksforgeeks.org/dsa/smallest-difference-triplet-from-three-arrays/)\n",
    "- Three arrays of same size are given. Find a triplet such that maximum - minimum in that triplet is minimum of all the triplets. A triplet should be selected in a way such that it should have one number from each of the three given arrays.\n",
    "<p dir=\"ltr\"><b><strong>Input</strong></b><span> : arr1[] = {5, 2, 8}</span><br/><span>    arr2[] = {10, 7, 12}</span><br/><span>    arr3[] = {9, 14, 6}</span><br/><b><strong>Output</strong></b><span> : 7, 6, 5</span><br/><br/><b><strong>Input</strong></b><span> : arr1[] = {15, 12, 18, 9}</span><br/><span>    arr2[] = {10, 17, 13, 8}</span><br/><span>    arr3[] = {14, 16, 11, 5}</span><br/><b><strong>Output</strong></b><span> : 11, 10, 9</span></p>"
   ]
  },
  {
   "cell_type": "code",
   "execution_count": null,
   "id": "b8d4301c",
   "metadata": {},
   "outputs": [],
   "source": []
  }
 ],
 "metadata": {},
 "nbformat": 4,
 "nbformat_minor": 5
}
