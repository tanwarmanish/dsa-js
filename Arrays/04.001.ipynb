{
 "cells": [
  {
   "cell_type": "markdown",
   "id": "92e8840f",
   "metadata": {},
   "source": [
    "# Rearrange an array such that arr[i] = i"
   ]
  },
  {
   "cell_type": "markdown",
   "id": "aa28ee37",
   "metadata": {},
   "source": [
    "## Description\n",
    "- [Problem](https://www.geeksforgeeks.org/dsa/rearrange-array-arri/)\n",
    "- Given an array of elements of length\n",
    "<p dir=\"ltr\"><b><strong>Input:</strong></b><span> arr[] = [-1, -1, 6, 1, 9, 3, 2, -1, 4, -1]</span><br/><b><strong>Output:</strong></b><span> [-1, 1, 2, 3, 4, -1, 6, -1, -1, 9]</span><br/><b><strong>Explanation: </strong></b><span>In range 0 to 9, all except 0, 5, 7 and 8 are present. Hence, we print -1 instead of them.</span></p>"
   ]
  },
  {
   "cell_type": "code",
   "execution_count": null,
   "id": "e9aec8af",
   "metadata": {},
   "outputs": [],
   "source": []
  }
 ],
 "metadata": {},
 "nbformat": 4,
 "nbformat_minor": 5
}
