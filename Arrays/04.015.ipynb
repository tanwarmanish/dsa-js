{
 "cells": [
  {
   "cell_type": "markdown",
   "id": "9f38f481",
   "metadata": {},
   "source": [
    "# Construct an array from its pair-sum array"
   ]
  },
  {
   "cell_type": "markdown",
   "id": "605e539a",
   "metadata": {},
   "source": [
    "## Description\n",
    "- [Problem](https://www.geeksforgeeks.org/dsa/construct-array-pair-sum-array/)\n",
    "- Given a pair-sum array arr[], where each element represents the sum of a unique pair of elements from an unknown original array res[].\n",
    "<p dir=\"ltr\"><b><strong>Input</strong></b><span>: arr[] = [4, 5, 3]</span><br/><b><strong>Output</strong></b><span>: [3, 1, 2]</span><br/><b><strong>Explanation</strong></b><span>: For [3, 1, 2], pairwise sums are (3 + 1), (3 + 2) and (1 + 2)</span></p>"
   ]
  },
  {
   "cell_type": "code",
   "execution_count": null,
   "id": "6168c79d",
   "metadata": {},
   "outputs": [],
   "source": []
  }
 ],
 "metadata": {},
 "nbformat": 4,
 "nbformat_minor": 5
}
