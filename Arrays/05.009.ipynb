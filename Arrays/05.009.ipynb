{
 "cells": [
  {
   "cell_type": "markdown",
   "id": "3ac0c240",
   "metadata": {},
   "source": [
    "# Maximum occurring integer in given ranges"
   ]
  },
  {
   "cell_type": "markdown",
   "id": "331edb60",
   "metadata": {},
   "source": [
    "## Description\n",
    "- [Problem](https://www.geeksforgeeks.org/dsa/maximum-occurred-integer-n-ranges/)\n",
    "- Given two arrays L[] and R[] of size N where L[i] and R[i] (0 ? L[i], R[i] < 106)denotes a range of numbers, the task is to find the maximum occurred integer in all the ranges. If more than one such integer exists, print the smallest one. \n",
    "```\n",
    "Input: L[] = {1, 4, 3, 1}, R[] = {15, 8, 5, 4}\n",
    "Output: 4\n",
    "\n",
    "Input: L[] = {1, 5, 9, 13, 21}, R[] = {15, 8, 12, 20, 30}\n",
    "Output: 5\n",
    "Explanation: Numbers having maximum occurrence i.e 2 are \n",
    "5, 6, 7, 8, 9, 10, 11, 12, 13, 14, 15. The smallest number among all are 5.\n",
    "```"
   ]
  },
  {
   "cell_type": "code",
   "execution_count": null,
   "id": "1278818c",
   "metadata": {},
   "outputs": [],
   "source": []
  }
 ],
 "metadata": {
  "kernelspec": {
   "display_name": "Python 3 (ipykernel)",
   "language": "python",
   "name": "python3"
  },
  "language_info": {
   "codemirror_mode": {
    "name": "ipython",
    "version": 3
   },
   "file_extension": ".py",
   "mimetype": "text/x-python",
   "name": "python",
   "nbconvert_exporter": "python",
   "pygments_lexer": "ipython3",
   "version": "3.13.5"
  }
 },
 "nbformat": 4,
 "nbformat_minor": 5
}
