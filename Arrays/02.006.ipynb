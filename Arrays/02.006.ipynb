{
 "cells": [
  {
   "cell_type": "markdown",
   "id": "d057731f",
   "metadata": {},
   "source": [
    "# Find the Missing Number"
   ]
  },
  {
   "cell_type": "markdown",
   "id": "e273ce31",
   "metadata": {},
   "source": [
    "## Description\n",
    "- [Problem](https://www.geeksforgeeks.org/dsa/find-the-missing-number/)\n",
    "- Given an array\n",
    "<p dir=\"ltr\"><b><strong>Input: </strong></b><span>arr[] = [8, 2, 4, 5, 3, 7, 1]</span><br/><b><strong>Output:</strong></b><span> 6</span><br/><b><strong>Explanation: </strong></b><span>All the numbers from 1 to 8 are present except 6.</span></p>"
   ]
  },
  {
   "cell_type": "code",
   "execution_count": null,
   "id": "92ae7064",
   "metadata": {},
   "outputs": [],
   "source": []
  }
 ],
 "metadata": {},
 "nbformat": 4,
 "nbformat_minor": 5
}
