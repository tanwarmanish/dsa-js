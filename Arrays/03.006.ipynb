{
 "cells": [
  {
   "cell_type": "markdown",
   "id": "a447433e",
   "metadata": {},
   "source": [
    "# Merge Sort"
   ]
  },
  {
   "cell_type": "markdown",
   "id": "e12eb4af",
   "metadata": {},
   "source": [
    "## Description\n",
    "- [Problem](https://www.geeksforgeeks.org/dsa/merge-sort/)"
   ]
  },
  {
   "cell_type": "code",
   "execution_count": 153,
   "id": "30ded4c7",
   "metadata": {},
   "outputs": [],
   "source": [
    "const list = [5,3,6,2,6,2,7,1,2,5,2];"
   ]
  },
  {
   "cell_type": "code",
   "execution_count": 154,
   "id": "094b1783-ea4a-44b5-97ed-5233d4674fda",
   "metadata": {},
   "outputs": [],
   "source": [
    "function merge(list,low,mid,high){\n",
    "    let i = low;\n",
    "    let j = mid+1;\n",
    "\n",
    "    while(i<=mid && j<=high){\n",
    "        if(list[i]>list[j]){\n",
    "            let temp = list[j];\n",
    "            for(let k=j-1;k>=i;k--){\n",
    "                list[k+1] = list[k];\n",
    "            }\n",
    "            list[i]= temp;\n",
    "            j++;\n",
    "            mid++;\n",
    "        }\n",
    "        i++;\n",
    "    }\n",
    "    return list;\n",
    "}"
   ]
  },
  {
   "cell_type": "code",
   "execution_count": 152,
   "id": "d6366c8e-e648-4fcb-8c11-a170b042f239",
   "metadata": {},
   "outputs": [
    {
     "name": "stdout",
     "output_type": "stream",
     "text": [
      "1,2,2,2,2,3,5,5,6,6,7\n"
     ]
    }
   ],
   "source": [
    "function mergeSort(list,low=0,high=list.length-1){\n",
    "    if(low<high){\n",
    "        const mid = low + Math.floor((high-low)/2);\n",
    "        mergeSort(list,low,mid);\n",
    "        mergeSort(list,mid+1,high);\n",
    "        merge(list,low,mid,high);\n",
    "    }\n",
    "    return list;\n",
    "}\n",
    "\n",
    "let result = mergeSort(list);\n",
    "console.log(result.join());"
   ]
  },
  {
   "cell_type": "code",
   "execution_count": null,
   "id": "532a6096-bff6-4484-9d56-47b787bd6f28",
   "metadata": {},
   "outputs": [],
   "source": []
  },
  {
   "cell_type": "code",
   "execution_count": null,
   "id": "110f0b99-0b42-4f09-a6ea-d900767203d3",
   "metadata": {},
   "outputs": [],
   "source": []
  }
 ],
 "metadata": {
  "kernelspec": {
   "display_name": "Deno",
   "language": "typescript",
   "name": "deno"
  },
  "language_info": {
   "codemirror_mode": "typescript",
   "file_extension": ".ts",
   "mimetype": "text/x.typescript",
   "name": "typescript",
   "nbconvert_exporter": "script",
   "pygments_lexer": "typescript",
   "version": "5.8.3"
  }
 },
 "nbformat": 4,
 "nbformat_minor": 5
}
