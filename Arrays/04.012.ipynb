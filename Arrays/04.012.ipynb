{
 "cells": [
  {
   "cell_type": "markdown",
   "id": "24bb0f3a",
   "metadata": {},
   "source": [
    "# Rotation Count in a Rotated Sorted array"
   ]
  },
  {
   "cell_type": "markdown",
   "id": "0cbd71b5",
   "metadata": {},
   "source": [
    "## Description\n",
    "- [Problem](https://www.geeksforgeeks.org/dsa/find-rotation-count-rotated-sorted-array/)\n",
    "- Given a sorted array\n",
    "<p dir=\"ltr\"><b><strong>Input:</strong></b><span> arr[] = [15, 18, 2, 3, 6, 12]</span><br/><b><strong>Output:</strong></b><span> 2</span><br/><b><strong>Explanation:</strong></b><span> </span><br/><span>Original sorted array = [2, 3, 6, 12, 15, 18]</span><br/><span>After 2 right rotations → [15, 18, 2, 3, 6, 12]  </span></p>"
   ]
  },
  {
   "cell_type": "code",
   "execution_count": null,
   "id": "4fc7eb2f",
   "metadata": {},
   "outputs": [],
   "source": []
  }
 ],
 "metadata": {},
 "nbformat": 4,
 "nbformat_minor": 5
}
