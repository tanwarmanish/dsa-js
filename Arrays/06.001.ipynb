{
 "cells": [
  {
   "cell_type": "markdown",
   "id": "652fccdb",
   "metadata": {},
   "source": [
    "# MO's Algorithm (Query Square Root Decomposition) | Set 1 (Introduction)"
   ]
  },
  {
   "cell_type": "markdown",
   "id": "d09e0c46",
   "metadata": {},
   "source": [
    "## Description\n",
    "- [Problem](https://www.geeksforgeeks.org/dsa/mos-algorithm-query-square-root-decomposition-set-1-introduction/)\n",
    "- Let us consider the following problem to understand MO's Algorithm.\n",
    "<p dir=\"ltr\"><b><strong>Input</strong></b><span>:  arr[]   = {1, 1, 2, 1, 3, 4, 5, 2, 8};</span><br/><span>        query[] = [0, 4], [1, 3] [2, 4]</span><br/><b><strong>Output</strong></b><span>: Sum of arr[] elements in range [0, 4] is 8</span><br/><span>        Sum of arr[] elements in range [1, 3] is 4  </span><br/><span>        Sum of arr[] elements in range [2, 4] is 6</span></p>"
   ]
  },
  {
   "cell_type": "code",
   "execution_count": null,
   "id": "6f9e4e67",
   "metadata": {},
   "outputs": [],
   "source": []
  }
 ],
 "metadata": {},
 "nbformat": 4,
 "nbformat_minor": 5
}
