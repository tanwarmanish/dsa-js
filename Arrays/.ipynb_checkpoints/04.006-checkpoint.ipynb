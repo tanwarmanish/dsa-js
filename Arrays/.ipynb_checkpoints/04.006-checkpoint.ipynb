{
 "cells": [
  {
   "cell_type": "markdown",
   "id": "7eb349c0-4b0b-4a8b-8d47-7deb09be9579",
   "metadata": {},
   "source": [
    "# Find the smallest missing number"
   ]
  },
  {
   "cell_type": "markdown",
   "id": "37937d76-3d2a-4e2c-9cc8-1e23497063c0",
   "metadata": {},
   "source": [
    "## Description\n",
    "- [Problem](https://www.geeksforgeeks.org/dsa/find-the-first-missing-number/)\n",
    "- Given a sorted array of n distinct integers where each integer is in the range from 0 to m-1 and m > n. Find the smallest number that is missing from the array.\n",
    "```\n",
    "Input: {0, 1, 2, 6, 9}, n = 5, m = 10 \n",
    "Output: 3\n",
    "\n",
    "Input: {4, 5, 10, 11}, n = 4, m = 12 \n",
    "Output: 0\n",
    "\n",
    "Input: {0, 1, 2, 3}, n = 4, m = 5 \n",
    "Output: 4\n",
    "\n",
    "Input: {0, 1, 2, 3, 4, 5, 6, 7, 10}, n = 9, m = 11 \n",
    "Output: 8\n",
    "```"
   ]
  },
  {
   "cell_type": "code",
   "execution_count": null,
   "id": "e2087f3b-0566-4884-bcbd-e6e5b68db5a0",
   "metadata": {},
   "outputs": [],
   "source": []
  }
 ],
 "metadata": {
  "kernelspec": {
   "display_name": "Deno",
   "language": "typescript",
   "name": "deno"
  },
  "language_info": {
   "codemirror_mode": "typescript",
   "file_extension": ".ts",
   "mimetype": "text/x.typescript",
   "name": "typescript",
   "nbconvert_exporter": "script",
   "pygments_lexer": "typescript",
   "version": "5.8.3"
  }
 },
 "nbformat": 4,
 "nbformat_minor": 5
}
