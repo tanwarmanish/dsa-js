{
 "cells": [
  {
   "cell_type": "markdown",
   "id": "b8d13786",
   "metadata": {},
   "source": [
    "# Duplicate within K Distance in an Array"
   ]
  },
  {
   "cell_type": "markdown",
   "id": "8bac3587",
   "metadata": {},
   "source": [
    "## Description\n",
    "- [Problem](https://www.geeksforgeeks.org/dsa/check-given-array-contains-duplicate-elements-within-k-distance/)\n",
    "- Given an integer array\n",
    "<p dir=\"ltr\"><b><strong>Input</strong></b><span>: k = 3, arr[] = [1, 2, 3, 4, 1, 2, 3, 4]</span><br/><b><strong>Output</strong></b><span>: No</span><br/><b><strong>Explanation: </strong></b><span>Each element in the given array arr[] appears twice and the distance between every element and its duplicate is 4.</span><br/><br/><b><strong>Input</strong></b><span>: k = 3, arr[] = [1, 2, 3, 1, 4, 5]</span><br/><b><strong>Output</strong></b><span>: Yes</span><br/><b><strong>Explanation: </strong></b><span>1 is present at index 0 and 3.</span><br/><br/><b><strong>Input</strong></b><span>: k = 3, arr[] = [1, 2, 3, 4, 5]</span><br/><b><strong>Output</strong></b><span>: No</span><br/><b><strong>Explanation: </strong></b><span>There is no duplicate element in arr[].</span></p>"
   ]
  },
  {
   "cell_type": "code",
   "execution_count": null,
   "id": "c98b0a0b",
   "metadata": {},
   "outputs": [],
   "source": []
  }
 ],
 "metadata": {
  "kernelspec": {
   "display_name": "Deno",
   "language": "typescript",
   "name": "deno"
  },
  "language_info": {
   "codemirror_mode": "typescript",
   "file_extension": ".ts",
   "mimetype": "text/x.typescript",
   "name": "typescript",
   "nbconvert_exporter": "script",
   "pygments_lexer": "typescript",
   "version": "5.8.3"
  }
 },
 "nbformat": 4,
 "nbformat_minor": 5
}
