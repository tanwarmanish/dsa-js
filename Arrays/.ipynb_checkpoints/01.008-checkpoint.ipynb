{
 "cells": [
  {
   "cell_type": "markdown",
   "id": "55e1c97e",
   "metadata": {},
   "source": [
    "# Move all Zeros to End of Array"
   ]
  },
  {
   "cell_type": "markdown",
   "id": "ca0b7a06",
   "metadata": {},
   "source": [
    "## Description\n",
    "- [Problem](https://www.geeksforgeeks.org/dsa/move-zeroes-end-array/)\n",
    "- Given an array of integers\n",
    "<p dir=\"ltr\"><b><strong>Input</strong></b><span>: arr[] = [1, 2, 0, 4, 3, 0, 5, 0]</span><br/><b><strong>Output</strong></b><span>: [1, 2, 4, 3, 5, 0, 0, 0]</span><br/><b><strong>Explanation</strong></b><span>: There are three 0s that are moved to the end.</span></p>"
   ]
  },
  {
   "cell_type": "code",
   "execution_count": 17,
   "id": "b31cb661",
   "metadata": {},
   "outputs": [
    {
     "name": "stdout",
     "output_type": "stream",
     "text": [
      "Zeros to End  1,2,4,3,5,0,0,0\n"
     ]
    }
   ],
   "source": [
    "const list = [1,2,0,4,3,0,5,0];\n",
    "\n",
    "function zerosToEnd(list){\n",
    "    let i = 0;\n",
    "    let j = 0;\n",
    "    while(i<list.length){\n",
    "        if(list[i]!=0){\n",
    "            if(i!=j){\n",
    "                list[j] = list[i];\n",
    "                list[i] = 0;\n",
    "            }\n",
    "            j++;\n",
    "        }\n",
    "        i++;\n",
    "    }\n",
    "}\n",
    "\n",
    "zerosToEnd(list);\n",
    "console.log(\"Zeros to End \", list.toString());"
   ]
  },
  {
   "cell_type": "code",
   "execution_count": null,
   "id": "46ee8889-8e12-4b27-aecc-51bc40cd457b",
   "metadata": {},
   "outputs": [],
   "source": []
  }
 ],
 "metadata": {
  "kernelspec": {
   "display_name": "Deno",
   "language": "typescript",
   "name": "deno"
  },
  "language_info": {
   "codemirror_mode": "typescript",
   "file_extension": ".ts",
   "mimetype": "text/x.typescript",
   "name": "typescript",
   "nbconvert_exporter": "script",
   "pygments_lexer": "typescript",
   "version": "5.8.3"
  }
 },
 "nbformat": 4,
 "nbformat_minor": 5
}
