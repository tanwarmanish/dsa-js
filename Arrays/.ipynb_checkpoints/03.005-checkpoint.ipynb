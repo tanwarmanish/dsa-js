{
 "cells": [
  {
   "cell_type": "markdown",
   "id": "bcbcafb2",
   "metadata": {},
   "source": [
    "# Quick Sort"
   ]
  },
  {
   "cell_type": "markdown",
   "id": "a04cad7b",
   "metadata": {},
   "source": [
    "## Description\n",
    "- [Problem](https://www.geeksforgeeks.org/dsa/quick-sort-algorithm/)"
   ]
  },
  {
   "cell_type": "code",
   "execution_count": 117,
   "id": "dd921c4c-8075-4713-9eb9-28d5ff72928e",
   "metadata": {},
   "outputs": [],
   "source": [
    "function naivePartition(list,low,high){\n",
    "    let pList = [];\n",
    "    \n",
    "    // pivot\n",
    "    let mid = low + Math.floor((high-low)/2);\n",
    "    let pivot = list[mid];\n",
    "    let pivotCount = 0;\n",
    "    \n",
    "    // xi<pivot\n",
    "    for(let i=low;i<=high;i++){\n",
    "        if(list[i]<pivot) pList.push(list[i]);\n",
    "        else if(list[i]==pivot) pivotCount++;\n",
    "    }\n",
    "\n",
    "    // xi==pivot\n",
    "    mid = low + pList.length;\n",
    "    for(let i=0;i<pivotCount;i++) pList.push(pivot);    \n",
    "\n",
    "    // xi>pivot\n",
    "    for(let i=low;i<=high;i++)\n",
    "        if(list[i]>pivot) pList.push(list[i]);\n",
    "\n",
    "    // copy back\n",
    "    for(let i=0;i<pList.length;i++)\n",
    "        list[low+i] = pList[i];\n",
    "\n",
    "    return mid;\n",
    "}"
   ]
  },
  {
   "cell_type": "code",
   "execution_count": 118,
   "id": "de4a500b-6d53-4fa2-a608-0f0191aa726e",
   "metadata": {},
   "outputs": [
    {
     "name": "stdout",
     "output_type": "stream",
     "text": [
      "1,2,3,4,5,6,7,8,9,10\n"
     ]
    }
   ],
   "source": [
    "const list = [10,9,8,7,6,5,4,3,2,1];\n",
    "\n",
    "function quickSort(list,low=0,high=list.length-1){\n",
    "    if(low<high){\n",
    "        const p = naivePartition(list,low,high);\n",
    "        quickSort(list,p+1,high);\n",
    "        quickSort(list,low,p-1);\n",
    "    }\n",
    "    return list;\n",
    "}\n",
    "\n",
    "\n",
    "const result = quickSort(list);\n",
    "console.log(result.join());"
   ]
  },
  {
   "cell_type": "code",
   "execution_count": 9,
   "id": "d13e544a-bf24-4fb8-b3e6-00efac29beec",
   "metadata": {},
   "outputs": [],
   "source": [
    "function swap(list,i,j){\n",
    "    let temp = list[i];\n",
    "    list[i] = list[j];\n",
    "    list[j] = temp;\n",
    "}"
   ]
  },
  {
   "cell_type": "code",
   "execution_count": 149,
   "id": "391ac1e8-378e-4de8-bd50-0605e21b7b8c",
   "metadata": {},
   "outputs": [
    {
     "name": "stdout",
     "output_type": "stream",
     "text": [
      "1,2,3,4,5,6,7,8,9,10\n"
     ]
    }
   ],
   "source": [
    "// lomuto Partition\n",
    "const list = [10,9,8,7,6,5,4,3,2,1];\n",
    "\n",
    "function lomutoPartition(list,low=0,high=list.length-1){\n",
    "    let pivot = list[high];\n",
    "    \n",
    "    let i = low;\n",
    "    for(let j=low;j<=high;j++){\n",
    "        if(list[j]<pivot){\n",
    "            swap(list,i,j);\n",
    "            i++;\n",
    "        }\n",
    "    }\n",
    "    swap(list,i,high);\n",
    "    return i;\n",
    "}\n",
    "\n",
    "function quickSort(list,low=0,high=list.length-1){\n",
    "    if(low<high){\n",
    "        const p = lomutoPartition(list,low,high);\n",
    "        quickSort(list,p+1,high);\n",
    "        quickSort(list,low,p-1);\n",
    "    }\n",
    "    return list;\n",
    "}\n",
    "\n",
    "\n",
    "const result = quickSort(list);\n",
    "console.log(result.join());"
   ]
  },
  {
   "cell_type": "code",
   "execution_count": 5,
   "id": "4aae27ae-6a35-4079-9eba-4262cbbf23cd",
   "metadata": {},
   "outputs": [
    {
     "name": "stdout",
     "output_type": "stream",
     "text": [
      "1,2,3,4,5\n"
     ]
    }
   ],
   "source": [
    "// Hoare Partition\n",
    "const list = [5,4,3,2,1];\n",
    "\n",
    "function hoarePartition(list,low=0,high=list.length-1){\n",
    "    let pivot = list[low];\n",
    "    let i = low-1;\n",
    "    let j = high+1;\n",
    "    \n",
    "    while (true) {\n",
    "        do { i++; } while (list[i] < pivot);\n",
    "        \n",
    "        do { j--; } while (list[j] > pivot);\n",
    "        \n",
    "        if (i >= j) break;\n",
    "        \n",
    "        [list[i], list[j]] = [list[j], list[i]];\n",
    "    }\n",
    "    return j;\n",
    "}\n",
    "\n",
    "function quickSort(list,low=0,high=list.length-1){\n",
    "    if(low<high){\n",
    "        const p = hoarePartition(list,low,high);\n",
    "        quickSort(list,low,p);\n",
    "        quickSort(list,p+1,high);\n",
    "    }\n",
    "    return list;\n",
    "}\n",
    "\n",
    "\n",
    "const result = quickSort(list);\n",
    "console.log(result.join());"
   ]
  },
  {
   "cell_type": "code",
   "execution_count": null,
   "id": "51b87489-3cc5-4921-aaa9-6e739b77d1d7",
   "metadata": {},
   "outputs": [],
   "source": []
  }
 ],
 "metadata": {
  "kernelspec": {
   "display_name": "Deno",
   "language": "typescript",
   "name": "deno"
  },
  "language_info": {
   "codemirror_mode": "typescript",
   "file_extension": ".ts",
   "mimetype": "text/x.typescript",
   "name": "typescript",
   "nbconvert_exporter": "script",
   "pygments_lexer": "typescript",
   "version": "5.8.3"
  }
 },
 "nbformat": 4,
 "nbformat_minor": 5
}
