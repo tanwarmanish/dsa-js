{
 "cells": [
  {
   "cell_type": "markdown",
   "id": "95788936",
   "metadata": {},
   "source": [
    "# 3 Sum - Triplet Sum Closest to Target"
   ]
  },
  {
   "cell_type": "markdown",
   "id": "d4ba8084",
   "metadata": {},
   "source": [
    "## Description\n",
    "- [Problem](https://www.geeksforgeeks.org/dsa/find-a-triplet-in-an-array-whose-sum-is-closest-to-a-given-number/)\n",
    "- Given an array\n",
    "<p dir=\"ltr\"><b><strong>Input</strong></b><span>: arr[] = [-1, 2, 2, 4], target = 4</span><br/><b><strong>Output</strong></b><span>: 5</span><br/><b><strong>Explanation</strong></b><span>: All possible triplets</span></p>"
   ]
  },
  {
   "cell_type": "code",
   "execution_count": null,
   "id": "e61e03bd",
   "metadata": {},
   "outputs": [],
   "source": []
  }
 ],
 "metadata": {},
 "nbformat": 4,
 "nbformat_minor": 5
}
