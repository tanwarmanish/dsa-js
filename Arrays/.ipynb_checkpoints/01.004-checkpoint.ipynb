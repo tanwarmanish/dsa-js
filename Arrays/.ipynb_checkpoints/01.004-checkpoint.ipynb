{
 "cells": [
  {
   "cell_type": "markdown",
   "id": "1c70ddde-a695-4de2-9f17-a67edff582f0",
   "metadata": {},
   "source": [
    "# Remove duplicates from Sorted Array"
   ]
  },
  {
   "cell_type": "markdown",
   "id": "027abcda-c84f-4105-ae5b-392d4aa5a90a",
   "metadata": {},
   "source": [
    "## Description\n",
    "- [Problem](https://www.geeksforgeeks.org/dsa/remove-duplicates-sorted-array/)\n",
    "- Given a sorted array arr[] of size n, the goal is to rearrange the array so that all distinct elements appear at the beginning in sorted order.\n",
    "\n",
    "```\n",
    "Input: arr[] = [2, 2, 2, 2, 2]\n",
    "Output: [2]\n",
    "Explanation: All the elements are 2, So only keep one instance of 2.\n",
    "\n",
    "Input: arr[] = [1, 2, 2, 3, 4, 4, 4, 5, 5]\n",
    "Output: [1, 2, 3, 4, 5]\n",
    "\n",
    "Input: arr[] = [1, 2, 3]\n",
    "Output: [1, 2, 3]\n",
    "Explanation : No change as all elements are distinct.\n",
    "```"
   ]
  },
  {
   "cell_type": "code",
   "execution_count": 49,
   "id": "f3fbdd21-669f-4886-a57c-390b1724ba6f",
   "metadata": {},
   "outputs": [
    {
     "name": "stdout",
     "output_type": "stream",
     "text": [
      "[ \u001b[33m1\u001b[39m, \u001b[33m2\u001b[39m, \u001b[33m3\u001b[39m, \u001b[33m4\u001b[39m, \u001b[33m5\u001b[39m ]\n"
     ]
    }
   ],
   "source": [
    "function removeDuplicates(list){\n",
    "    let i=1;\n",
    "    let j=0;\n",
    "    while(i<list.length){\n",
    "        if(list[i]!=list[j]){\n",
    "            j++;\n",
    "            if(i!=j){\n",
    "                list[j]= list[i];\n",
    "            }\n",
    "        }\n",
    "        i++;\n",
    "    }\n",
    "    return list.slice(0,j+1)\n",
    "}\n",
    "\n",
    "let list = [1,2,3,3,3,3,3,3,4,4,4,4,4,5];\n",
    "console.log(removeDuplicates(list));"
   ]
  }
 ],
 "metadata": {
  "kernelspec": {
   "display_name": "Deno",
   "language": "typescript",
   "name": "deno"
  },
  "language_info": {
   "codemirror_mode": "typescript",
   "file_extension": ".ts",
   "mimetype": "text/x.typescript",
   "name": "typescript",
   "nbconvert_exporter": "script",
   "pygments_lexer": "typescript",
   "version": "5.8.3"
  }
 },
 "nbformat": 4,
 "nbformat_minor": 5
}
