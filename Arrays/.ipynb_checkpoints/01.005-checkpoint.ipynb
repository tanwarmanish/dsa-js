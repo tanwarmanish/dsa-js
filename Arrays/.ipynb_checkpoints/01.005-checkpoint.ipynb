{
 "cells": [
  {
   "cell_type": "markdown",
   "id": "76d8e33f",
   "metadata": {
    "editable": true,
    "slideshow": {
     "slide_type": ""
    },
    "tags": []
   },
   "source": [
    "# Generating All Subarrays"
   ]
  },
  {
   "cell_type": "markdown",
   "id": "effdeb1e",
   "metadata": {},
   "source": [
    "## Description\n",
    "- [Problem](https://www.geeksforgeeks.org/dsa/generating-subarrays-using-recursion/)\n",
    "- Given an array arr[], the task is to generate all the possible subarrays of the given array.\n",
    "<p dir=\"ltr\"><b><strong>Input</strong></b><span>: arr[] = [1, 2, 3]</span><br/><b><strong>Output</strong></b><span>: [ [1], [1, 2], [2], [1, 2, 3], [2, 3], [3] ]</span><br/><br/><b><strong>Input</strong></b><span>: arr[] = [1, 2]</span><br/><b><strong>Output:</strong></b><span> [ [1], [1, 2], [2] ]</span></p>"
   ]
  },
  {
   "cell_type": "code",
   "execution_count": 17,
   "id": "35967a41",
   "metadata": {},
   "outputs": [
    {
     "name": "stdout",
     "output_type": "stream",
     "text": [
      "[ [ \u001b[33m1\u001b[39m ], [ \u001b[33m1\u001b[39m, \u001b[33m2\u001b[39m ], [ \u001b[33m2\u001b[39m ] ]\n"
     ]
    }
   ],
   "source": [
    "const list = [1,2]\n",
    "\n",
    "function copy(list){\n",
    "    return JSON.parse(JSON.stringify(list));\n",
    "}\n",
    "function subArrays(list){\n",
    "    let sList = [];\n",
    "    for(let i=0;i<list.length;i++){\n",
    "        const subArray = [];\n",
    "        for(let j=i;j<list.length;j++){\n",
    "            subArray.push(list[j]);\n",
    "            sList.push(copy(subArray));\n",
    "        }\n",
    "    }\n",
    "    return sList;\n",
    "}\n",
    "\n",
    "const result = subArrays(list);\n",
    "console.log(result);"
   ]
  },
  {
   "cell_type": "code",
   "execution_count": null,
   "id": "69ba1252-42be-4672-bc4f-328a1aae1fa7",
   "metadata": {},
   "outputs": [],
   "source": []
  }
 ],
 "metadata": {
  "kernelspec": {
   "display_name": "Deno",
   "language": "typescript",
   "name": "deno"
  },
  "language_info": {
   "codemirror_mode": "typescript",
   "file_extension": ".ts",
   "mimetype": "text/x.typescript",
   "name": "typescript",
   "nbconvert_exporter": "script",
   "pygments_lexer": "typescript",
   "version": "5.8.3"
  }
 },
 "nbformat": 4,
 "nbformat_minor": 5
}
