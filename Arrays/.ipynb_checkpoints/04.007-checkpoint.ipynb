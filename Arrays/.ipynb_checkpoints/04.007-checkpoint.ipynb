{
 "cells": [
  {
   "cell_type": "markdown",
   "id": "e5048e66",
   "metadata": {},
   "source": [
    "# Smallest subarray with sum greater than a given value"
   ]
  },
  {
   "cell_type": "markdown",
   "id": "a056a26f",
   "metadata": {},
   "source": [
    "## Description\n",
    "- [Problem](https://www.geeksforgeeks.org/dsa/minimum-length-subarray-sum-greater-given-value/)\n",
    "- Given an array\n",
    "<p dir=\"ltr\"><b><strong>Input: </strong></b><span>x = 51, arr[] = [1, 4, 45, 6, 0, 19]</span><br/><b><strong>Output:</strong></b><span> 3</span><br/><b><strong>Explanation: </strong></b><span>Minimum length subarray is [4, 45, 6]</span></p>"
   ]
  },
  {
   "cell_type": "code",
   "execution_count": null,
   "id": "3dc3b59c-7e89-4a39-b6ff-67ce800a85d6",
   "metadata": {},
   "outputs": [],
   "source": []
  }
 ],
 "metadata": {
  "kernelspec": {
   "display_name": "Deno",
   "language": "typescript",
   "name": "deno"
  },
  "language_info": {
   "codemirror_mode": "typescript",
   "file_extension": ".ts",
   "mimetype": "text/x.typescript",
   "name": "typescript",
   "nbconvert_exporter": "script",
   "pygments_lexer": "typescript",
   "version": "5.8.3"
  }
 },
 "nbformat": 4,
 "nbformat_minor": 5
}
