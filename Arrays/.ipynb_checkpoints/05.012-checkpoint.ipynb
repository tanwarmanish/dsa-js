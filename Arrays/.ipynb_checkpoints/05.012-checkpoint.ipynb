{
 "cells": [
  {
   "cell_type": "markdown",
   "id": "f1cb9d50",
   "metadata": {},
   "source": [
    "# 4 Sum - All Distinct Quadruplets with given Sum in an Array"
   ]
  },
  {
   "cell_type": "markdown",
   "id": "a43edfe2",
   "metadata": {},
   "source": [
    "## Description\n",
    "- [Problem](https://www.geeksforgeeks.org/dsa/find-four-elements-that-sum-to-a-given-value-set-2/)\n",
    "- Given an array\n",
    "<p dir=\"ltr\"><b><strong>Input:</strong></b><span> arr[] = [10, 11, 10, 12, 11], target = 43 </span><br/><b><strong>Output: </strong></b><span>[[10, 10, 11, 12]]</span><br/><b><strong>Explanation: </strong></b><span>The quadruplets are: </span><br/><span>[10, 11, 10, 12], sum = 10 + 11 + 10 +12 = 43</span><br/><span>[10, 11, 10, 11], sum = 10 + 11 + 10 + 11 = 42</span><br/><span>[10, 11, 12, 11], sum = 10 + 11 + 12 + 11 = 44</span><br/><span>[10, 10, 12, 11], sum = 10 + 10 + 12 + 11 = 43</span><br/><span>[11, 10, 12, 11], sum = 11 + 10 + 12 + 11 = 44</span><br/><span>When arranged in sorted order, there is only one distinct quadruplet with sum = 43, that is [10, 10, 11, 12]</span></p>"
   ]
  },
  {
   "cell_type": "code",
   "execution_count": null,
   "id": "93c80393",
   "metadata": {},
   "outputs": [],
   "source": []
  }
 ],
 "metadata": {
  "kernelspec": {
   "display_name": "Python 3 (ipykernel)",
   "language": "python",
   "name": "python3"
  },
  "language_info": {
   "codemirror_mode": {
    "name": "ipython",
    "version": 3
   },
   "file_extension": ".py",
   "mimetype": "text/x-python",
   "name": "python",
   "nbconvert_exporter": "python",
   "pygments_lexer": "ipython3",
   "version": "3.13.5"
  }
 },
 "nbformat": 4,
 "nbformat_minor": 5
}
