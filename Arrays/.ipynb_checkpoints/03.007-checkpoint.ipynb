{
 "cells": [
  {
   "cell_type": "markdown",
   "id": "73c838c9-2343-4dfd-acc4-c0bce97c674f",
   "metadata": {},
   "source": [
    "# Cycle Sort"
   ]
  },
  {
   "cell_type": "markdown",
   "id": "dfd15876-33a2-4774-837d-b75707f87310",
   "metadata": {},
   "source": [
    "## Description\n",
    "- [Problem](https://www.geeksforgeeks.org/dsa/cycle-sort/)"
   ]
  },
  {
   "cell_type": "code",
   "execution_count": 4,
   "id": "87688803-7616-4a20-a0c5-8a47eedf02e2",
   "metadata": {},
   "outputs": [
    {
     "name": "stdout",
     "output_type": "stream",
     "text": [
      "Result  1,1,2,2,3,3,5,6,8,9,10\n"
     ]
    }
   ],
   "source": [
    "let list = [10,9,8,1,2,3,6,5,3,1,2];\n",
    "\n",
    "function cycleSort(list){\n",
    "    for(let cycle=0;cycle<list.length;cycle++){\n",
    "        let current = list[cycle];\n",
    "        for(let i=cycle;i<list.length;i++){\n",
    "            if(list[i]<current){\n",
    "                let temp = current;\n",
    "                current = list[i];\n",
    "                list[i] = temp;\n",
    "            }\n",
    "        }\n",
    "        list[cycle] = current;\n",
    "    }\n",
    "}\n",
    "\n",
    "cycleSort(list);\n",
    "console.log(\"Result \",list.join());"
   ]
  },
  {
   "cell_type": "code",
   "execution_count": null,
   "id": "0180c01e-7d67-46dc-9617-5b0bf404ab64",
   "metadata": {},
   "outputs": [],
   "source": []
  }
 ],
 "metadata": {
  "kernelspec": {
   "display_name": "Deno",
   "language": "typescript",
   "name": "deno"
  },
  "language_info": {
   "codemirror_mode": "typescript",
   "file_extension": ".ts",
   "mimetype": "text/x.typescript",
   "name": "typescript",
   "nbconvert_exporter": "script",
   "pygments_lexer": "typescript",
   "version": "5.8.3"
  }
 },
 "nbformat": 4,
 "nbformat_minor": 5
}
