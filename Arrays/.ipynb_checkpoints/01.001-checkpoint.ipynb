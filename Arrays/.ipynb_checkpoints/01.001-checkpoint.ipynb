{
 "cells": [
  {
   "cell_type": "markdown",
   "id": "614ac966-17d4-4422-acde-81473ceca58c",
   "metadata": {},
   "source": [
    "# Print Alternates"
   ]
  },
  {
   "cell_type": "markdown",
   "id": "43673417-1373-4e77-aada-ada52c691c09",
   "metadata": {},
   "source": [
    "## Description\n",
    "-  [Problem](https://www.geeksforgeeks.org/dsa/print-alternate-elements-of-an-array/)\n",
    "-  Given an array arr[], the task is to print every alternate element of the array starting from the first element.\n",
    "```\n",
    "Input: arr[] = [10, 20, 30, 40, 50]\n",
    "Output: 10 30 50\n",
    "Explanation: Print the first element (10), skip the second element (20), print the third element (30), skip the fourth element(40) and print the fifth element(50).\n",
    "\n",
    "Input: arr[] = [-5, 1, 4, 2, 12]\n",
    "Output: -5 4 12\n",
    "```"
   ]
  },
  {
   "cell_type": "code",
   "execution_count": 16,
   "id": "3a1e8542-4e02-43d7-860f-6165f861374d",
   "metadata": {},
   "outputs": [],
   "source": [
    "function printAlternates(array){\n",
    "    const alternates = []\n",
    "    for(let i=0;i<array.length;i+=2){\n",
    "        alternates.push(array[i]);\n",
    "    }\n",
    "    return alternates;\n",
    "}"
   ]
  },
  {
   "cell_type": "code",
   "execution_count": 18,
   "id": "712a527d-3e72-4730-a908-8bfcf910db74",
   "metadata": {},
   "outputs": [
    {
     "name": "stdout",
     "output_type": "stream",
     "text": [
      "[ \u001b[33m10\u001b[39m, \u001b[33m30\u001b[39m, \u001b[33m50\u001b[39m ]\n"
     ]
    }
   ],
   "source": [
    "const arr = [10,20,30,40,50]\n",
    "const result = printAlternates(arr)\n",
    "console.log(result);"
   ]
  },
  {
   "cell_type": "code",
   "execution_count": 20,
   "id": "eb5dab8b-d5d2-44b7-8dd4-67dbbc38ef63",
   "metadata": {},
   "outputs": [
    {
     "name": "stdout",
     "output_type": "stream",
     "text": [
      "[ \u001b[33m-5\u001b[39m, \u001b[33m4\u001b[39m, \u001b[33m12\u001b[39m ]\n"
     ]
    }
   ],
   "source": [
    "const arr2 = [-5, 1, 4, 2, 12];\n",
    "console.log(printAlternates(arr2));"
   ]
  }
 ],
 "metadata": {
  "kernelspec": {
   "display_name": "Deno",
   "language": "typescript",
   "name": "deno"
  },
  "language_info": {
   "codemirror_mode": "typescript",
   "file_extension": ".ts",
   "mimetype": "text/x.typescript",
   "name": "typescript",
   "nbconvert_exporter": "script",
   "pygments_lexer": "typescript",
   "version": "5.8.3"
  }
 },
 "nbformat": 4,
 "nbformat_minor": 5
}
