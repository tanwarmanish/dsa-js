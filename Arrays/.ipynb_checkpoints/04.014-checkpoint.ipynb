{
 "cells": [
  {
   "cell_type": "markdown",
   "id": "7e138731",
   "metadata": {},
   "source": [
    "# Longest Span with same Sum in two Binary arrays"
   ]
  },
  {
   "cell_type": "markdown",
   "id": "54e97891",
   "metadata": {},
   "source": [
    "## Description\n",
    "- [Problem](https://www.geeksforgeeks.org/dsa/longest-span-sum-two-binary-arrays/)\n",
    "- Given two binary arrays\n",
    "<p dir=\"ltr\"><b><strong>Input</strong></b><span>: a1[] = [0, 1, 0, 0, 0, 0], a2[] = [1, 0, 1, 0, 0, 1] </span><br/><b><strong>Output</strong></b><span>: 4 </span><br/><b><strong>Explanation: </strong></b><span>The longest span with same sum is from index 1 to 4.  </span></p>"
   ]
  },
  {
   "cell_type": "code",
   "execution_count": null,
   "id": "fa388178",
   "metadata": {},
   "outputs": [],
   "source": []
  }
 ],
 "metadata": {},
 "nbformat": 4,
 "nbformat_minor": 5
}
