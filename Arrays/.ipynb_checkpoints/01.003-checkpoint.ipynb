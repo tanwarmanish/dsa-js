{
 "cells": [
  {
   "cell_type": "markdown",
   "id": "9d66f136-eea0-47b6-8d88-64da5e2c15ed",
   "metadata": {},
   "source": [
    "# Check if an Array is Sorted"
   ]
  },
  {
   "cell_type": "markdown",
   "id": "d4017dd8-a48a-4097-8fb7-752f8e4246c4",
   "metadata": {},
   "source": [
    "## Description\n",
    "- [Problem](https://www.geeksforgeeks.org/dsa/program-check-array-sorted-not-iterative-recursive/)\n",
    "- Given an array arr[], check if it is sorted in ascending order or not. Equal values are allowed in an array and two consecutive equal values are considered sorted.\n",
    "```\n",
    "Input: arr[] = [10, 20, 30, 40, 50]\n",
    "Output: true\n",
    "Explanation: The given array is sorted.\n",
    "\n",
    "Input: arr[] = [90, 80, 100, 70, 40, 30]\n",
    "Output: false\n",
    "Explanation: The given array is not sorted.\n",
    "```"
   ]
  },
  {
   "cell_type": "code",
   "execution_count": 5,
   "id": "8da13ae3-d694-4bd9-8aaa-1919403d61e9",
   "metadata": {},
   "outputs": [
    {
     "name": "stdout",
     "output_type": "stream",
     "text": [
      "\u001b[33mtrue\u001b[39m\n",
      "\u001b[33mfalse\u001b[39m\n"
     ]
    }
   ],
   "source": [
    "function isSorted(array){\n",
    "    for(let i=1;i<array.length;i++){\n",
    "        if(array[i]>=array[i-1]){\n",
    "            continue;\n",
    "        }\n",
    "        else return false;\n",
    "    }\n",
    "    return true\n",
    "}\n",
    "\n",
    "const input = [10,20,30,40,50]\n",
    "console.log(isSorted(input))\n",
    "\n",
    "const input2 = [90, 80, 100, 70, 40, 30];\n",
    "console.log(isSorted(input2))"
   ]
  },
  {
   "cell_type": "code",
   "execution_count": null,
   "id": "091e9fa9-4cc0-406e-b750-c5a66bff918c",
   "metadata": {},
   "outputs": [],
   "source": []
  },
  {
   "cell_type": "code",
   "execution_count": null,
   "id": "7d7477ed-27e8-48ef-9069-a7fd4b7badd0",
   "metadata": {},
   "outputs": [],
   "source": []
  }
 ],
 "metadata": {
  "kernelspec": {
   "display_name": "Deno",
   "language": "typescript",
   "name": "deno"
  },
  "language_info": {
   "codemirror_mode": "typescript",
   "file_extension": ".ts",
   "mimetype": "text/x.typescript",
   "name": "typescript",
   "nbconvert_exporter": "script",
   "pygments_lexer": "typescript",
   "version": "5.8.3"
  }
 },
 "nbformat": 4,
 "nbformat_minor": 5
}
