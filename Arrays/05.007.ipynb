{
 "cells": [
  {
   "cell_type": "markdown",
   "id": "d57ca222",
   "metadata": {},
   "source": [
    "# Find Median from Running Data Stream"
   ]
  },
  {
   "cell_type": "markdown",
   "id": "dec85b7f",
   "metadata": {},
   "source": [
    "## Description\n",
    "- [Problem](https://www.geeksforgeeks.org/dsa/median-of-stream-of-integers-running-integers/)\n",
    "- Given a data stream\n",
    "<p dir=\"ltr\"><b><strong>Input: </strong></b><span> arr[] = [5, 15, 1, 3, 2, 8]</span><br/><b><strong>Output:</strong></b><span> [5.00, 10.00, 5.00, 4.00, 3.00, 4.00] </span><br/><b><strong>Explanation</strong></b><span>: </span><br/><span>After reading 1st element of stream - 5 -&gt; median = 5</span><br/><span>After reading 2nd element of stream - 5, 15 -&gt; median = (5+15)/2 = 10 </span><br/><span>After reading 3rd element of stream - 5, 15, 1 -&gt; median = 5</span><br/><span>After reading 4th element of stream - 5, 15, 1, 3 -&gt;  median = (3+5)/2 = 4</span><br/><span>After reading 5th element of stream - 5, 15, 1, 3, 2 -&gt; median = 3</span><br/><span>After reading 6th element of stream - 5, 15, 1, 3, 2, 8 -&gt;  median = (3+5)/2 = 4</span></p>"
   ]
  },
  {
   "cell_type": "code",
   "execution_count": null,
   "id": "885dbea5",
   "metadata": {},
   "outputs": [],
   "source": []
  }
 ],
 "metadata": {},
 "nbformat": 4,
 "nbformat_minor": 5
}
