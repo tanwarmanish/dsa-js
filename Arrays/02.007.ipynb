{
 "cells": [
  {
   "cell_type": "markdown",
   "id": "2731f9c6",
   "metadata": {},
   "source": [
    "# Missing and Repeating in an Array"
   ]
  },
  {
   "cell_type": "markdown",
   "id": "7f54326d",
   "metadata": {},
   "source": [
    "## Description\n",
    "- [Problem](https://www.geeksforgeeks.org/dsa/find-a-repeating-and-a-missing-number/)\n",
    "- Given an unsorted array\n",
    "<p dir=\"ltr\"><b><strong>Input:</strong></b><span> arr[] = [3, 1, 3]</span><br/><b><strong>Output:</strong></b><span> [3, 2]</span><br/><b><strong>Explanation:</strong></b><span> 3 is occurs twice and 2 is missing.</span></p>"
   ]
  },
  {
   "cell_type": "code",
   "execution_count": null,
   "id": "e3fc86cb",
   "metadata": {},
   "outputs": [],
   "source": []
  }
 ],
 "metadata": {},
 "nbformat": 4,
 "nbformat_minor": 5
}
