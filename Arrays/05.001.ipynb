{
 "cells": [
  {
   "cell_type": "markdown",
   "id": "567ca71a",
   "metadata": {},
   "source": [
    "# Surpasser Count of Each Element in Array"
   ]
  },
  {
   "cell_type": "markdown",
   "id": "8dd4a11b",
   "metadata": {},
   "source": [
    "## Description\n",
    "- [Problem](https://www.geeksforgeeks.org/dsa/find-surpasser-count-of-each-element-in-array/)\n",
    "- Given an array of distinct integers arr[], a\n",
    "<p dir=\"ltr\"><b><strong>Input: </strong></b><span>arr[] = [2, 7, 5, 3, 8, 1]</span><br/><b><strong>Output: </strong></b><span>[4, 1, 1, 1, 0, 0]</span><br/><b><strong>Explanation:  </strong></b><span>For 2, there are 4 greater elements to its right: [7, 5, 3, 8]</span><br/><span>For 7, there is 1 greater element to its right: [8]</span><br/><span>For 5, there is 1 greater element to its right: [8]</span><br/><span>For 3, there is 1 greater element to its right: [8]</span><br/><span>For 8, there is no greater element to its right: [0]</span><br/><span>For 1, there is no greater element to its right: [0]</span></p>"
   ]
  },
  {
   "cell_type": "code",
   "execution_count": null,
   "id": "6fca05cc",
   "metadata": {},
   "outputs": [],
   "source": []
  }
 ],
 "metadata": {},
 "nbformat": 4,
 "nbformat_minor": 5
}
