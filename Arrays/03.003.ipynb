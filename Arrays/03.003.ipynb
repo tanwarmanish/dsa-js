{
 "cells": [
  {
   "cell_type": "markdown",
   "id": "580bd636",
   "metadata": {},
   "source": [
    "# Insertion Sort Algorithm"
   ]
  },
  {
   "cell_type": "markdown",
   "id": "6325c237",
   "metadata": {},
   "source": [
    "## Description\n",
    "- [Problem](https://www.geeksforgeeks.org/dsa/insertion-sort-algorithm/)"
   ]
  },
  {
   "cell_type": "code",
   "execution_count": 1,
   "id": "c8092a15",
   "metadata": {},
   "outputs": [],
   "source": [
    "const list = [9,8,7,5,4,3,2,1,10];"
   ]
  },
  {
   "cell_type": "code",
   "execution_count": 20,
   "id": "25111119-3a2a-40e6-a812-8a2ca81e69af",
   "metadata": {},
   "outputs": [
    {
     "name": "stdout",
     "output_type": "stream",
     "text": [
      "[\n",
      "  \u001b[33m1\u001b[39m, \u001b[33m2\u001b[39m, \u001b[33m3\u001b[39m,  \u001b[33m4\u001b[39m, \u001b[33m5\u001b[39m,\n",
      "  \u001b[33m7\u001b[39m, \u001b[33m8\u001b[39m, \u001b[33m9\u001b[39m, \u001b[33m10\u001b[39m\n",
      "]\n"
     ]
    }
   ],
   "source": [
    "function insertionSort(list){\n",
    "    list = JSON.parse(JSON.stringify(list));\n",
    "    for(let i=1;i<list.length;i++){\n",
    "        let j=i;\n",
    "        while(j>0){\n",
    "            if(list[j]>list[j-1]) break;\n",
    "            let temp = list[j];\n",
    "            list[j] = list[j-1];\n",
    "            list[j-1] = temp;\n",
    "            j--;\n",
    "        }\n",
    "    }\n",
    "    return list;\n",
    "}\n",
    "\n",
    "const result = insertionSort(list);\n",
    "console.log(result);"
   ]
  },
  {
   "cell_type": "code",
   "execution_count": null,
   "id": "f068a66e-2669-42c8-b622-326c4dc1c31e",
   "metadata": {},
   "outputs": [],
   "source": []
  }
 ],
 "metadata": {
  "kernelspec": {
   "display_name": "Deno",
   "language": "typescript",
   "name": "deno"
  },
  "language_info": {
   "codemirror_mode": "typescript",
   "file_extension": ".ts",
   "mimetype": "text/x.typescript",
   "name": "typescript",
   "nbconvert_exporter": "script",
   "pygments_lexer": "typescript",
   "version": "5.8.3"
  }
 },
 "nbformat": 4,
 "nbformat_minor": 5
}
