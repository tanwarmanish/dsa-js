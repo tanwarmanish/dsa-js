{
 "cells": [
  {
   "cell_type": "markdown",
   "id": "e4c92b96",
   "metadata": {},
   "source": [
    "# Stock Buy and Sell - Multiple Transaction Allowed"
   ]
  },
  {
   "cell_type": "markdown",
   "id": "b0a47c60",
   "metadata": {},
   "source": [
    "## Description\n",
    "- [Problem](https://www.geeksforgeeks.org/dsa/stock-buy-sell/)\n",
    "- Given an array\n",
    "<p dir=\"ltr\"><b><strong>Input: </strong></b><span>prices[] = {100, 180, 260, 310, 40, 535, 695}</span><br/><b><strong>Output: </strong></b><span>865</span><br/><b><strong>Explanation: </strong></b><span>Buy the stock on day 0 and sell it on day 3 =&gt; 310 - 100 = 210</span><br/><span>                       Buy the stock on day 4 and sell it on day 6 =&gt; 695 - 40 = 655</span><br/><span>                       Maximum Profit  = 210 + 655 = 865</span></p>"
   ]
  },
  {
   "cell_type": "code",
   "execution_count": null,
   "id": "768b8ff5",
   "metadata": {},
   "outputs": [],
   "source": []
  }
 ],
 "metadata": {},
 "nbformat": 4,
 "nbformat_minor": 5
}
