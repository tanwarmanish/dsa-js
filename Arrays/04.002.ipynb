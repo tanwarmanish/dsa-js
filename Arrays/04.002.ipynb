{
 "cells": [
  {
   "cell_type": "markdown",
   "id": "6178f762",
   "metadata": {},
   "source": [
    "# Maximum Circular Subarray Sum"
   ]
  },
  {
   "cell_type": "markdown",
   "id": "acc6155e",
   "metadata": {},
   "source": [
    "## Description\n",
    "- [Problem](https://www.geeksforgeeks.org/dsa/maximum-contiguous-circular-sum/)\n",
    "- Given a\n",
    "<p dir=\"ltr\"><b><strong>Input:</strong></b><span> arr[] = [8, -8, 9, -9, 10, -11, 12]</span><br/><b><strong>Output: </strong></b><span>22</span><br/><b><strong>Explanation:</strong></b><span> The circular subarray [12, 8, -8, 9, -9, 10] gives the maximum sum, which is 22.</span></p>"
   ]
  },
  {
   "cell_type": "code",
   "execution_count": null,
   "id": "7132bc15",
   "metadata": {},
   "outputs": [],
   "source": []
  }
 ],
 "metadata": {},
 "nbformat": 4,
 "nbformat_minor": 5
}
