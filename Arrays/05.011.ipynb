{
 "cells": [
  {
   "cell_type": "markdown",
   "id": "b08c8307",
   "metadata": {},
   "source": [
    "# 3 Sum - Find All Triplets with Zero Sum"
   ]
  },
  {
   "cell_type": "markdown",
   "id": "17b1e903",
   "metadata": {},
   "source": [
    "## Description\n",
    "- [Problem](https://www.geeksforgeeks.org/dsa/find-triplets-array-whose-sum-equal-zero/)\n",
    "- Given an array\n",
    "<p dir=\"ltr\"><b><strong>Input:</strong></b><span> arr[] = {0, -1, 2, -3, 1}</span><br/><b><strong>Output:</strong></b><span> {{0, 1, 4}, {2, 3, 4}}</span><br/><b><strong>Explanation:</strong></b><span>  Two triplets with sum 0 are:</span><br/><span>arr[0] + arr[1] + arr[4] = 0 + (-1) + 1 = 0</span><br/><span>arr[2] + arr[3] + arr[4] = 2 + (-3) + 1 = 0</span></p>"
   ]
  },
  {
   "cell_type": "code",
   "execution_count": null,
   "id": "be7b7965",
   "metadata": {},
   "outputs": [],
   "source": []
  }
 ],
 "metadata": {},
 "nbformat": 4,
 "nbformat_minor": 5
}
