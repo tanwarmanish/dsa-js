{
 "cells": [
  {
   "cell_type": "markdown",
   "id": "1d997938",
   "metadata": {},
   "source": [
    "# Sparse Table"
   ]
  },
  {
   "cell_type": "markdown",
   "id": "c41ddb0f",
   "metadata": {},
   "source": [
    "## Description\n",
    "- [Problem](https://www.geeksforgeeks.org/dsa/sparse-table/)\n",
    "- Sparse table concept is used for fast queries on a set of static data (elements do not change). It does preprocessing so that the queries can be answered efficiently.\n",
    "<p dir=\"ltr\"><b><strong>Input: </strong></b><span>arr[] = [ 7, 2, 3, 0, 5, 10, 3, 12, 18 ]</span><br/><span>queries[][] = [ [0, 4], [4, 7], [7, 8] ]</span><br/><b><strong>Output: </strong></b><span>0 3 12</span><br/><b><strong>Explanation: </strong></b><span>For query 1, the subarray spanning indices 0 through 4 contains the values 7, 2, 3, and 0, and the minimum among them is 0. Similarly, the minimum value in range [4, 7] and [7, 8] are 3 and 12 respectively.</span></p>"
   ]
  },
  {
   "cell_type": "code",
   "execution_count": null,
   "id": "a3adf6ca",
   "metadata": {},
   "outputs": [],
   "source": []
  }
 ],
 "metadata": {},
 "nbformat": 4,
 "nbformat_minor": 5
}
