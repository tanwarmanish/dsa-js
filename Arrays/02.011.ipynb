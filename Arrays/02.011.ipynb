{
 "cells": [
  {
   "cell_type": "markdown",
   "id": "7c9f8e4d",
   "metadata": {},
   "source": [
    "# Equilibrium Index"
   ]
  },
  {
   "cell_type": "markdown",
   "id": "70896d31",
   "metadata": {},
   "source": [
    "## Description\n",
    "- [Problem](https://www.geeksforgeeks.org/dsa/equilibrium-index-of-an-array/)\n",
    "- Given an array\n",
    "<p dir=\"ltr\"><b><strong>Input: </strong></b><span>arr[] = [1, 2, 0, 3]</span><br/><b><strong>Output:</strong></b><span> 2</span><br/><b><strong>Explanation: </strong></b><span>The sum of left of index 2 is 1 + 2 = 3 and sum on right of index 2 is 3.</span></p>"
   ]
  },
  {
   "cell_type": "code",
   "execution_count": null,
   "id": "71d9d6a2",
   "metadata": {},
   "outputs": [],
   "source": []
  }
 ],
 "metadata": {},
 "nbformat": 4,
 "nbformat_minor": 5
}
