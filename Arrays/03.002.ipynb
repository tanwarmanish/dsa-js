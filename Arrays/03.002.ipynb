{
 "cells": [
  {
   "cell_type": "markdown",
   "id": "8cf8d3cf",
   "metadata": {},
   "source": [
    "# Selection Sort"
   ]
  },
  {
   "cell_type": "markdown",
   "id": "eb6915e9",
   "metadata": {},
   "source": [
    "## Description\n",
    "- [Problem](https://www.geeksforgeeks.org/dsa/selection-sort-algorithm-2/)"
   ]
  },
  {
   "cell_type": "code",
   "execution_count": 12,
   "id": "f467d4a9",
   "metadata": {},
   "outputs": [],
   "source": [
    "const list = [9,8,7,5,4,3,2,1,10];"
   ]
  },
  {
   "cell_type": "code",
   "execution_count": 13,
   "id": "f7f555f9-6937-4fe0-9fbe-9cc87c5fa932",
   "metadata": {},
   "outputs": [
    {
     "name": "stdout",
     "output_type": "stream",
     "text": [
      "[\n",
      "  \u001b[33m1\u001b[39m, \u001b[33m2\u001b[39m, \u001b[33m3\u001b[39m,  \u001b[33m4\u001b[39m, \u001b[33m5\u001b[39m,\n",
      "  \u001b[33m7\u001b[39m, \u001b[33m8\u001b[39m, \u001b[33m9\u001b[39m, \u001b[33m10\u001b[39m\n",
      "]\n"
     ]
    }
   ],
   "source": [
    "function selectionSort(list){\n",
    "    list = JSON.parse(JSON.stringify(list));\n",
    "    for(let i=0;i<list.length;i++){\n",
    "        let min = i;\n",
    "        for(let j=i+1;j<list.length;j++){\n",
    "            if(list[j]<list[min])\n",
    "                min = j;\n",
    "        }\n",
    "        // swap min wih i\n",
    "        let temp = list[i];\n",
    "        list[i] = list[min];\n",
    "        list[min] = temp;\n",
    "    }\n",
    "    return list;\n",
    "}\n",
    "\n",
    "let result = selectionSort(list);\n",
    "console.log(result);"
   ]
  },
  {
   "cell_type": "code",
   "execution_count": null,
   "id": "c16c9714-df0f-4b8b-b0fa-3dbec9205376",
   "metadata": {},
   "outputs": [],
   "source": []
  }
 ],
 "metadata": {
  "kernelspec": {
   "display_name": "Deno",
   "language": "typescript",
   "name": "deno"
  },
  "language_info": {
   "codemirror_mode": "typescript",
   "file_extension": ".ts",
   "mimetype": "text/x.typescript",
   "name": "typescript",
   "nbconvert_exporter": "script",
   "pygments_lexer": "typescript",
   "version": "5.8.3"
  }
 },
 "nbformat": 4,
 "nbformat_minor": 5
}
