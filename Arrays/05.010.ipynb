{
 "cells": [
  {
   "cell_type": "markdown",
   "id": "8280aea5",
   "metadata": {},
   "source": [
    "# 3 Sum – All Distinct Triplets with given Sum in an Array"
   ]
  },
  {
   "cell_type": "markdown",
   "id": "a5625080",
   "metadata": {},
   "source": [
    "## Description\n",
    "- [Problem](https://www.geeksforgeeks.org/dsa/unique-triplets-sum-given-value/)\n",
    "- Given an array\n",
    "<p dir=\"ltr\"><b><strong>Input:</strong></b><span> arr[] = {12, 3, 6, 1, 6, 9}, target = 24 </span><br/><b><strong>Output:</strong></b><span> {{3, 9, 12}, {6, 6, 12}} </span><br/><b><strong>Explanation</strong></b><span>: There are two unique triplets that add up to 24: </span><br/><span>3 + 9 + 12 = 24</span><br/><span>6 + 6 + 12 = 24</span><br/><br/><b><strong>Input:</strong></b><span> arr[] = {-2, 0, 1, 1, 2}, target = 10 </span><br/><b><strong>Output:</strong></b><span> {} </span><br/><b><strong>Explanation: </strong></b><span>There is not triplet with sum 10.</span></p>"
   ]
  },
  {
   "cell_type": "code",
   "execution_count": null,
   "id": "3e88997c",
   "metadata": {},
   "outputs": [],
   "source": []
  }
 ],
 "metadata": {
  "kernelspec": {
   "display_name": "Python 3 (ipykernel)",
   "language": "python",
   "name": "python3"
  },
  "language_info": {
   "codemirror_mode": {
    "name": "ipython",
    "version": 3
   },
   "file_extension": ".py",
   "mimetype": "text/x-python",
   "name": "python",
   "nbconvert_exporter": "python",
   "pygments_lexer": "ipython3",
   "version": "3.13.5"
  }
 },
 "nbformat": 4,
 "nbformat_minor": 5
}
